{
 "cells": [
  {
   "cell_type": "code",
   "execution_count": 1,
   "metadata": {},
   "outputs": [],
   "source": [
    "import os\n",
    "import ibis\n",
    "import warnings\n",
    "\n",
    "\n",
    "ibis.options.interactive = True\n",
    "warnings.filterwarnings(\"ignore\")\n",
    "\n",
    "os.environ['OPENAI_API_KEY'] = 'Your OpenAI API key'\n",
    "os.environ[\"GOOGLE_APPLICATION_CREDENTIALS\"] = 'Your GCP Credentials'"
   ]
  },
  {
   "cell_type": "code",
   "execution_count": 3,
   "metadata": {},
   "outputs": [],
   "source": [
    "#connect to bq using your project_id and dataset_id (instructions in the blogpost this notebook accompanies on how to do this)\n",
    "bqconn = ibis.bigquery.connect(\n",
    "    project_id='your_project-abcdef', \n",
    "    dataset_id='bigquery-public-data.google_analytics_sample'\n",
    ")"
   ]
  },
  {
   "cell_type": "code",
   "execution_count": 13,
   "metadata": {},
   "outputs": [],
   "source": [
    "#this grabs a table with data from a google analytics session\n",
    "ga = bqconn.table('ga_sessions_20160801', database='bigquery-public-data.google_analytics_sample')"
   ]
  },
  {
   "cell_type": "code",
   "execution_count": 14,
   "metadata": {},
   "outputs": [
    {
     "data": {
      "text/html": [
       "<pre style=\"white-space:pre;overflow-x:auto;line-height:normal;font-family:Menlo,'DejaVu Sans Mono',consolas,'Courier New',monospace\">┏━━━━━━━━━━━┳━━━━━━━━━━━━━┳━━━━━━━━━━━━┳━━━━━━━━━━━━━━━━┳━━━━━━━━━━┳━━━━━━━━━━━━━━━━━━━━━━━━━━━━━━━━━━━━━━━━━━━━━━━━━━━━━━━━━━━━━━━━━━━━━━━━━━━━━━━━━━┳━━━━━━━━━━━━━━━━━━━━━━━━━━━━━━━━━━━━━━━━━━━━━━━━━━━━━━━━━━━━━━━━━━━━━━━━━━━━━━━━━━┳━━━━━━━━━━━━━━━━━━━━━━━━━━━━━━━━━━━━━━━━━━━━━━━━━━━━━━━━━━━━━━━━━━━━━━━━━━━━━━━━━━━━━━━━━━━━━━┳━━━━━━━━━━━━━━━━━━━━━━━━━━━━━━━━━━━━━━━━━━━━━━━━━━━━━━━━━━━━━━━━━━━━━━━━━━━━━━━━━━┳━━━━━━━━━━━━━━━━━━━━━━━━━━━━━━━━━━━━━━━━━━━━┳━━━━━━━━━━━━━━━━━━━━━━━━━━━━━━━━━━━━━━━━━━━━━━━━━━━━━━━━━━━━━━━━━━━━━━━━━━━━━━━━━━━━━━━━━━━┳━━━━━━━━━━━━━━━━━━━━━┳━━━━━━━━┳━━━━━━━━━━━━━━━━━┳━━━━━━━━━━━━━━━━━━━━━━┓\n",
       "┃<span style=\"font-weight: bold\"> visitorId </span>┃<span style=\"font-weight: bold\"> visitNumber </span>┃<span style=\"font-weight: bold\"> visitId    </span>┃<span style=\"font-weight: bold\"> visitStartTime </span>┃<span style=\"font-weight: bold\"> date     </span>┃<span style=\"font-weight: bold\"> totals                                                                           </span>┃<span style=\"font-weight: bold\"> trafficSource                                                                    </span>┃<span style=\"font-weight: bold\"> device                                                                                       </span>┃<span style=\"font-weight: bold\"> geoNetwork                                                                       </span>┃<span style=\"font-weight: bold\"> customDimensions                           </span>┃<span style=\"font-weight: bold\"> hits                                                                                      </span>┃<span style=\"font-weight: bold\"> fullVisitorId       </span>┃<span style=\"font-weight: bold\"> userId </span>┃<span style=\"font-weight: bold\"> channelGrouping </span>┃<span style=\"font-weight: bold\"> socialEngagementType </span>┃\n",
       "┡━━━━━━━━━━━╇━━━━━━━━━━━━━╇━━━━━━━━━━━━╇━━━━━━━━━━━━━━━━╇━━━━━━━━━━╇━━━━━━━━━━━━━━━━━━━━━━━━━━━━━━━━━━━━━━━━━━━━━━━━━━━━━━━━━━━━━━━━━━━━━━━━━━━━━━━━━━╇━━━━━━━━━━━━━━━━━━━━━━━━━━━━━━━━━━━━━━━━━━━━━━━━━━━━━━━━━━━━━━━━━━━━━━━━━━━━━━━━━━╇━━━━━━━━━━━━━━━━━━━━━━━━━━━━━━━━━━━━━━━━━━━━━━━━━━━━━━━━━━━━━━━━━━━━━━━━━━━━━━━━━━━━━━━━━━━━━━╇━━━━━━━━━━━━━━━━━━━━━━━━━━━━━━━━━━━━━━━━━━━━━━━━━━━━━━━━━━━━━━━━━━━━━━━━━━━━━━━━━━╇━━━━━━━━━━━━━━━━━━━━━━━━━━━━━━━━━━━━━━━━━━━━╇━━━━━━━━━━━━━━━━━━━━━━━━━━━━━━━━━━━━━━━━━━━━━━━━━━━━━━━━━━━━━━━━━━━━━━━━━━━━━━━━━━━━━━━━━━━╇━━━━━━━━━━━━━━━━━━━━━╇━━━━━━━━╇━━━━━━━━━━━━━━━━━╇━━━━━━━━━━━━━━━━━━━━━━┩\n",
       "│ <span style=\"color: #7f7f7f; text-decoration-color: #7f7f7f\">int64</span>     │ <span style=\"color: #7f7f7f; text-decoration-color: #7f7f7f\">int64</span>       │ <span style=\"color: #7f7f7f; text-decoration-color: #7f7f7f\">int64</span>      │ <span style=\"color: #7f7f7f; text-decoration-color: #7f7f7f\">int64</span>          │ <span style=\"color: #7f7f7f; text-decoration-color: #7f7f7f\">string</span>   │ <span style=\"color: #7f7f7f; text-decoration-color: #7f7f7f\">struct&lt;visits: int64, hits: int64, pageviews: int64, timeOnSite: int64, bounces…</span> │ <span style=\"color: #7f7f7f; text-decoration-color: #7f7f7f\">struct&lt;referralPath: string, campaign: string, source: string, medium: string, …</span> │ <span style=\"color: #7f7f7f; text-decoration-color: #7f7f7f\">struct&lt;browser: string, browserVersion: string, browserSize: string, operatingS…</span>             │ <span style=\"color: #7f7f7f; text-decoration-color: #7f7f7f\">struct&lt;continent: string, subContinent: string, country: string, region: string…</span> │ <span style=\"color: #7f7f7f; text-decoration-color: #7f7f7f\">array&lt;struct&lt;index: int64, value: string&gt;&gt;</span> │ <span style=\"color: #7f7f7f; text-decoration-color: #7f7f7f\">array&lt;struct&lt;hitNumber: int64, time: int64, hour: int64, minute: int64, isSecur…</span>          │ <span style=\"color: #7f7f7f; text-decoration-color: #7f7f7f\">string</span>              │ <span style=\"color: #7f7f7f; text-decoration-color: #7f7f7f\">string</span> │ <span style=\"color: #7f7f7f; text-decoration-color: #7f7f7f\">string</span>          │ <span style=\"color: #7f7f7f; text-decoration-color: #7f7f7f\">string</span>               │\n",
       "├───────────┼─────────────┼────────────┼────────────────┼──────────┼──────────────────────────────────────────────────────────────────────────────────┼──────────────────────────────────────────────────────────────────────────────────┼──────────────────────────────────────────────────────────────────────────────────────────────┼──────────────────────────────────────────────────────────────────────────────────┼────────────────────────────────────────────┼───────────────────────────────────────────────────────────────────────────────────────────┼─────────────────────┼────────┼─────────────────┼──────────────────────┤\n",
       "│      <span style=\"color: #7f7f7f; text-decoration-color: #7f7f7f\">NULL</span> │           <span style=\"color: #008080; text-decoration-color: #008080; font-weight: bold\">1</span> │ <span style=\"color: #008080; text-decoration-color: #008080; font-weight: bold\">1470046245</span> │     <span style=\"color: #008080; text-decoration-color: #008080; font-weight: bold\">1470046245</span> │ <span style=\"color: #008000; text-decoration-color: #008000\">20160801</span> │ <span style=\"font-weight: bold\">{</span><span style=\"color: #008000; text-decoration-color: #008000\">'visits'</span>: <span style=\"color: #008080; text-decoration-color: #008080; font-weight: bold\">1</span>, <span style=\"color: #008000; text-decoration-color: #008000\">'hits'</span>: <span style=\"color: #008080; text-decoration-color: #008080; font-weight: bold\">24</span>, <span style=\"color: #808000; text-decoration-color: #808000\">...</span> +<span style=\"color: #008080; text-decoration-color: #008080; font-weight: bold\">11</span><span style=\"font-weight: bold\">}</span>                                               │ <span style=\"font-weight: bold\">{</span><span style=\"color: #008000; text-decoration-color: #008000\">'referralPath'</span>: <span style=\"color: #800080; text-decoration-color: #800080; font-style: italic\">None</span>, <span style=\"color: #008000; text-decoration-color: #008000\">'campaign'</span>: <span style=\"color: #008000; text-decoration-color: #008000\">'(not set)'</span>, <span style=\"color: #808000; text-decoration-color: #808000\">...</span> +<span style=\"color: #008080; text-decoration-color: #008080; font-weight: bold\">7</span><span style=\"font-weight: bold\">}</span>                          │ <span style=\"font-weight: bold\">{</span><span style=\"color: #008000; text-decoration-color: #008000\">'browser'</span>: <span style=\"color: #008000; text-decoration-color: #008000\">'Firefox'</span>, <span style=\"color: #008000; text-decoration-color: #008000\">'browserVersion'</span>: <span style=\"color: #008000; text-decoration-color: #008000\">'not available in demo dataset'</span>, <span style=\"color: #808000; text-decoration-color: #808000\">...</span> +<span style=\"color: #008080; text-decoration-color: #008080; font-weight: bold\">15</span><span style=\"font-weight: bold\">}</span>           │ <span style=\"font-weight: bold\">{</span><span style=\"color: #008000; text-decoration-color: #008000\">'continent'</span>: <span style=\"color: #008000; text-decoration-color: #008000\">'Europe'</span>, <span style=\"color: #008000; text-decoration-color: #008000\">'subContinent'</span>: <span style=\"color: #008000; text-decoration-color: #008000\">'Western Europe'</span>, <span style=\"color: #808000; text-decoration-color: #808000\">...</span> +<span style=\"color: #008080; text-decoration-color: #008080; font-weight: bold\">9</span><span style=\"font-weight: bold\">}</span>                │ <span style=\"font-weight: bold\">[{</span><span style=\"color: #808000; text-decoration-color: #808000\">...</span><span style=\"font-weight: bold\">}]</span>                                    │ <span style=\"font-weight: bold\">[{</span><span style=\"color: #808000; text-decoration-color: #808000\">...</span><span style=\"font-weight: bold\">}</span>, <span style=\"font-weight: bold\">{</span><span style=\"color: #808000; text-decoration-color: #808000\">...</span><span style=\"font-weight: bold\">}</span>, <span style=\"color: #808000; text-decoration-color: #808000\">...</span> +<span style=\"color: #008080; text-decoration-color: #008080; font-weight: bold\">22</span><span style=\"font-weight: bold\">]</span>                                                                   │ <span style=\"color: #008000; text-decoration-color: #008000\">895954260133011192 </span> │ <span style=\"color: #7f7f7f; text-decoration-color: #7f7f7f\">NULL</span>   │ <span style=\"color: #008000; text-decoration-color: #008000\">Organic Search </span> │ <span style=\"color: #008000; text-decoration-color: #008000\">Not Socially Engaged</span> │\n",
       "│      <span style=\"color: #7f7f7f; text-decoration-color: #7f7f7f\">NULL</span> │           <span style=\"color: #008080; text-decoration-color: #008080; font-weight: bold\">1</span> │ <span style=\"color: #008080; text-decoration-color: #008080; font-weight: bold\">1470084717</span> │     <span style=\"color: #008080; text-decoration-color: #008080; font-weight: bold\">1470084717</span> │ <span style=\"color: #008000; text-decoration-color: #008000\">20160801</span> │ <span style=\"font-weight: bold\">{</span><span style=\"color: #008000; text-decoration-color: #008000\">'visits'</span>: <span style=\"color: #008080; text-decoration-color: #008080; font-weight: bold\">1</span>, <span style=\"color: #008000; text-decoration-color: #008000\">'hits'</span>: <span style=\"color: #008080; text-decoration-color: #008080; font-weight: bold\">24</span>, <span style=\"color: #808000; text-decoration-color: #808000\">...</span> +<span style=\"color: #008080; text-decoration-color: #008080; font-weight: bold\">11</span><span style=\"font-weight: bold\">}</span>                                               │ <span style=\"font-weight: bold\">{</span><span style=\"color: #008000; text-decoration-color: #008000\">'referralPath'</span>: <span style=\"color: #800080; text-decoration-color: #800080; font-style: italic\">None</span>, <span style=\"color: #008000; text-decoration-color: #008000\">'campaign'</span>: <span style=\"color: #008000; text-decoration-color: #008000\">'(not set)'</span>, <span style=\"color: #808000; text-decoration-color: #808000\">...</span> +<span style=\"color: #008080; text-decoration-color: #008080; font-weight: bold\">7</span><span style=\"font-weight: bold\">}</span>                          │ <span style=\"font-weight: bold\">{</span><span style=\"color: #008000; text-decoration-color: #008000\">'browser'</span>: <span style=\"color: #008000; text-decoration-color: #008000\">'Internet Explorer'</span>, <span style=\"color: #008000; text-decoration-color: #008000\">'browserVersion'</span>: <span style=\"color: #008000; text-decoration-color: #008000\">'not available in demo dataset'</span>, <span style=\"color: #808000; text-decoration-color: #808000\">...</span> +<span style=\"color: #008080; text-decoration-color: #008080; font-weight: bold\">15</span><span style=\"font-weight: bold\">}</span> │ <span style=\"font-weight: bold\">{</span><span style=\"color: #008000; text-decoration-color: #008000\">'continent'</span>: <span style=\"color: #008000; text-decoration-color: #008000\">'Americas'</span>, <span style=\"color: #008000; text-decoration-color: #008000\">'subContinent'</span>: <span style=\"color: #008000; text-decoration-color: #008000\">'Northern America'</span>, <span style=\"color: #808000; text-decoration-color: #808000\">...</span> +<span style=\"color: #008080; text-decoration-color: #008080; font-weight: bold\">9</span><span style=\"font-weight: bold\">}</span>            │ <span style=\"font-weight: bold\">[{</span><span style=\"color: #808000; text-decoration-color: #808000\">...</span><span style=\"font-weight: bold\">}]</span>                                    │ <span style=\"font-weight: bold\">[{</span><span style=\"color: #808000; text-decoration-color: #808000\">...</span><span style=\"font-weight: bold\">}</span>, <span style=\"font-weight: bold\">{</span><span style=\"color: #808000; text-decoration-color: #808000\">...</span><span style=\"font-weight: bold\">}</span>, <span style=\"color: #808000; text-decoration-color: #808000\">...</span> +<span style=\"color: #008080; text-decoration-color: #008080; font-weight: bold\">22</span><span style=\"font-weight: bold\">]</span>                                                                   │ <span style=\"color: #008000; text-decoration-color: #008000\">0288478011259077136</span> │ <span style=\"color: #7f7f7f; text-decoration-color: #7f7f7f\">NULL</span>   │ <span style=\"color: #008000; text-decoration-color: #008000\">Direct         </span> │ <span style=\"color: #008000; text-decoration-color: #008000\">Not Socially Engaged</span> │\n",
       "│      <span style=\"color: #7f7f7f; text-decoration-color: #7f7f7f\">NULL</span> │           <span style=\"color: #008080; text-decoration-color: #008080; font-weight: bold\">3</span> │ <span style=\"color: #008080; text-decoration-color: #008080; font-weight: bold\">1470078988</span> │     <span style=\"color: #008080; text-decoration-color: #008080; font-weight: bold\">1470078988</span> │ <span style=\"color: #008000; text-decoration-color: #008000\">20160801</span> │ <span style=\"font-weight: bold\">{</span><span style=\"color: #008000; text-decoration-color: #008000\">'visits'</span>: <span style=\"color: #008080; text-decoration-color: #008080; font-weight: bold\">1</span>, <span style=\"color: #008000; text-decoration-color: #008000\">'hits'</span>: <span style=\"color: #008080; text-decoration-color: #008080; font-weight: bold\">27</span>, <span style=\"color: #808000; text-decoration-color: #808000\">...</span> +<span style=\"color: #008080; text-decoration-color: #008080; font-weight: bold\">11</span><span style=\"font-weight: bold\">}</span>                                               │ <span style=\"font-weight: bold\">{</span><span style=\"color: #008000; text-decoration-color: #008000\">'referralPath'</span>: <span style=\"color: #800080; text-decoration-color: #800080; font-style: italic\">None</span>, <span style=\"color: #008000; text-decoration-color: #008000\">'campaign'</span>: <span style=\"color: #008000; text-decoration-color: #008000\">'(not set)'</span>, <span style=\"color: #808000; text-decoration-color: #808000\">...</span> +<span style=\"color: #008080; text-decoration-color: #008080; font-weight: bold\">7</span><span style=\"font-weight: bold\">}</span>                          │ <span style=\"font-weight: bold\">{</span><span style=\"color: #008000; text-decoration-color: #008000\">'browser'</span>: <span style=\"color: #008000; text-decoration-color: #008000\">'Safari'</span>, <span style=\"color: #008000; text-decoration-color: #008000\">'browserVersion'</span>: <span style=\"color: #008000; text-decoration-color: #008000\">'not available in demo dataset'</span>, <span style=\"color: #808000; text-decoration-color: #808000\">...</span> +<span style=\"color: #008080; text-decoration-color: #008080; font-weight: bold\">15</span><span style=\"font-weight: bold\">}</span>            │ <span style=\"font-weight: bold\">{</span><span style=\"color: #008000; text-decoration-color: #008000\">'continent'</span>: <span style=\"color: #008000; text-decoration-color: #008000\">'Americas'</span>, <span style=\"color: #008000; text-decoration-color: #008000\">'subContinent'</span>: <span style=\"color: #008000; text-decoration-color: #008000\">'Northern America'</span>, <span style=\"color: #808000; text-decoration-color: #808000\">...</span> +<span style=\"color: #008080; text-decoration-color: #008080; font-weight: bold\">9</span><span style=\"font-weight: bold\">}</span>            │ <span style=\"font-weight: bold\">[{</span><span style=\"color: #808000; text-decoration-color: #808000\">...</span><span style=\"font-weight: bold\">}]</span>                                    │ <span style=\"font-weight: bold\">[{</span><span style=\"color: #808000; text-decoration-color: #808000\">...</span><span style=\"font-weight: bold\">}</span>, <span style=\"font-weight: bold\">{</span><span style=\"color: #808000; text-decoration-color: #808000\">...</span><span style=\"font-weight: bold\">}</span>, <span style=\"color: #808000; text-decoration-color: #808000\">...</span> +<span style=\"color: #008080; text-decoration-color: #008080; font-weight: bold\">25</span><span style=\"font-weight: bold\">]</span>                                                                   │ <span style=\"color: #008000; text-decoration-color: #008000\">6440789996634275026</span> │ <span style=\"color: #7f7f7f; text-decoration-color: #7f7f7f\">NULL</span>   │ <span style=\"color: #008000; text-decoration-color: #008000\">Organic Search </span> │ <span style=\"color: #008000; text-decoration-color: #008000\">Not Socially Engaged</span> │\n",
       "│      <span style=\"color: #7f7f7f; text-decoration-color: #7f7f7f\">NULL</span> │           <span style=\"color: #008080; text-decoration-color: #008080; font-weight: bold\">4</span> │ <span style=\"color: #008080; text-decoration-color: #008080; font-weight: bold\">1470075581</span> │     <span style=\"color: #008080; text-decoration-color: #008080; font-weight: bold\">1470075581</span> │ <span style=\"color: #008000; text-decoration-color: #008000\">20160801</span> │ <span style=\"font-weight: bold\">{</span><span style=\"color: #008000; text-decoration-color: #008000\">'visits'</span>: <span style=\"color: #008080; text-decoration-color: #008080; font-weight: bold\">1</span>, <span style=\"color: #008000; text-decoration-color: #008000\">'hits'</span>: <span style=\"color: #008080; text-decoration-color: #008080; font-weight: bold\">27</span>, <span style=\"color: #808000; text-decoration-color: #808000\">...</span> +<span style=\"color: #008080; text-decoration-color: #008080; font-weight: bold\">11</span><span style=\"font-weight: bold\">}</span>                                               │ <span style=\"font-weight: bold\">{</span><span style=\"color: #008000; text-decoration-color: #008000\">'referralPath'</span>: <span style=\"color: #008000; text-decoration-color: #008000\">'/'</span>, <span style=\"color: #008000; text-decoration-color: #008000\">'campaign'</span>: <span style=\"color: #008000; text-decoration-color: #008000\">'(not set)'</span>, <span style=\"color: #808000; text-decoration-color: #808000\">...</span> +<span style=\"color: #008080; text-decoration-color: #008080; font-weight: bold\">7</span><span style=\"font-weight: bold\">}</span>                           │ <span style=\"font-weight: bold\">{</span><span style=\"color: #008000; text-decoration-color: #008000\">'browser'</span>: <span style=\"color: #008000; text-decoration-color: #008000\">'Chrome'</span>, <span style=\"color: #008000; text-decoration-color: #008000\">'browserVersion'</span>: <span style=\"color: #008000; text-decoration-color: #008000\">'not available in demo dataset'</span>, <span style=\"color: #808000; text-decoration-color: #808000\">...</span> +<span style=\"color: #008080; text-decoration-color: #008080; font-weight: bold\">15</span><span style=\"font-weight: bold\">}</span>            │ <span style=\"font-weight: bold\">{</span><span style=\"color: #008000; text-decoration-color: #008000\">'continent'</span>: <span style=\"color: #008000; text-decoration-color: #008000\">'Americas'</span>, <span style=\"color: #008000; text-decoration-color: #008000\">'subContinent'</span>: <span style=\"color: #008000; text-decoration-color: #008000\">'Northern America'</span>, <span style=\"color: #808000; text-decoration-color: #808000\">...</span> +<span style=\"color: #008080; text-decoration-color: #008080; font-weight: bold\">9</span><span style=\"font-weight: bold\">}</span>            │ <span style=\"font-weight: bold\">[{</span><span style=\"color: #808000; text-decoration-color: #808000\">...</span><span style=\"font-weight: bold\">}]</span>                                    │ <span style=\"font-weight: bold\">[{</span><span style=\"color: #808000; text-decoration-color: #808000\">...</span><span style=\"font-weight: bold\">}</span>, <span style=\"font-weight: bold\">{</span><span style=\"color: #808000; text-decoration-color: #808000\">...</span><span style=\"font-weight: bold\">}</span>, <span style=\"color: #808000; text-decoration-color: #808000\">...</span> +<span style=\"color: #008080; text-decoration-color: #008080; font-weight: bold\">25</span><span style=\"font-weight: bold\">]</span>                                                                   │ <span style=\"color: #008000; text-decoration-color: #008000\">8520115029387302083</span> │ <span style=\"color: #7f7f7f; text-decoration-color: #7f7f7f\">NULL</span>   │ <span style=\"color: #008000; text-decoration-color: #008000\">Referral       </span> │ <span style=\"color: #008000; text-decoration-color: #008000\">Not Socially Engaged</span> │\n",
       "│      <span style=\"color: #7f7f7f; text-decoration-color: #7f7f7f\">NULL</span> │          <span style=\"color: #008080; text-decoration-color: #008080; font-weight: bold\">30</span> │ <span style=\"color: #008080; text-decoration-color: #008080; font-weight: bold\">1470099026</span> │     <span style=\"color: #008080; text-decoration-color: #008080; font-weight: bold\">1470099026</span> │ <span style=\"color: #008000; text-decoration-color: #008000\">20160801</span> │ <span style=\"font-weight: bold\">{</span><span style=\"color: #008000; text-decoration-color: #008000\">'visits'</span>: <span style=\"color: #008080; text-decoration-color: #008080; font-weight: bold\">1</span>, <span style=\"color: #008000; text-decoration-color: #008000\">'hits'</span>: <span style=\"color: #008080; text-decoration-color: #008080; font-weight: bold\">27</span>, <span style=\"color: #808000; text-decoration-color: #808000\">...</span> +<span style=\"color: #008080; text-decoration-color: #008080; font-weight: bold\">11</span><span style=\"font-weight: bold\">}</span>                                               │ <span style=\"font-weight: bold\">{</span><span style=\"color: #008000; text-decoration-color: #008000\">'referralPath'</span>: <span style=\"color: #800080; text-decoration-color: #800080; font-style: italic\">None</span>, <span style=\"color: #008000; text-decoration-color: #008000\">'campaign'</span>: <span style=\"color: #008000; text-decoration-color: #008000\">'(not set)'</span>, <span style=\"color: #808000; text-decoration-color: #808000\">...</span> +<span style=\"color: #008080; text-decoration-color: #008080; font-weight: bold\">7</span><span style=\"font-weight: bold\">}</span>                          │ <span style=\"font-weight: bold\">{</span><span style=\"color: #008000; text-decoration-color: #008000\">'browser'</span>: <span style=\"color: #008000; text-decoration-color: #008000\">'Chrome'</span>, <span style=\"color: #008000; text-decoration-color: #008000\">'browserVersion'</span>: <span style=\"color: #008000; text-decoration-color: #008000\">'not available in demo dataset'</span>, <span style=\"color: #808000; text-decoration-color: #808000\">...</span> +<span style=\"color: #008080; text-decoration-color: #008080; font-weight: bold\">15</span><span style=\"font-weight: bold\">}</span>            │ <span style=\"font-weight: bold\">{</span><span style=\"color: #008000; text-decoration-color: #008000\">'continent'</span>: <span style=\"color: #008000; text-decoration-color: #008000\">'Americas'</span>, <span style=\"color: #008000; text-decoration-color: #008000\">'subContinent'</span>: <span style=\"color: #008000; text-decoration-color: #008000\">'Northern America'</span>, <span style=\"color: #808000; text-decoration-color: #808000\">...</span> +<span style=\"color: #008080; text-decoration-color: #008080; font-weight: bold\">9</span><span style=\"font-weight: bold\">}</span>            │ <span style=\"font-weight: bold\">[{</span><span style=\"color: #808000; text-decoration-color: #808000\">...</span><span style=\"font-weight: bold\">}]</span>                                    │ <span style=\"font-weight: bold\">[{</span><span style=\"color: #808000; text-decoration-color: #808000\">...</span><span style=\"font-weight: bold\">}</span>, <span style=\"font-weight: bold\">{</span><span style=\"color: #808000; text-decoration-color: #808000\">...</span><span style=\"font-weight: bold\">}</span>, <span style=\"color: #808000; text-decoration-color: #808000\">...</span> +<span style=\"color: #008080; text-decoration-color: #008080; font-weight: bold\">25</span><span style=\"font-weight: bold\">]</span>                                                                   │ <span style=\"color: #008000; text-decoration-color: #008000\">6792260745822342947</span> │ <span style=\"color: #7f7f7f; text-decoration-color: #7f7f7f\">NULL</span>   │ <span style=\"color: #008000; text-decoration-color: #008000\">Organic Search </span> │ <span style=\"color: #008000; text-decoration-color: #008000\">Not Socially Engaged</span> │\n",
       "└───────────┴─────────────┴────────────┴────────────────┴──────────┴──────────────────────────────────────────────────────────────────────────────────┴──────────────────────────────────────────────────────────────────────────────────┴──────────────────────────────────────────────────────────────────────────────────────────────┴──────────────────────────────────────────────────────────────────────────────────┴────────────────────────────────────────────┴───────────────────────────────────────────────────────────────────────────────────────────┴─────────────────────┴────────┴─────────────────┴──────────────────────┘\n",
       "</pre>\n"
      ],
      "text/plain": [
       "┏━━━━━━━━━━━┳━━━━━━━━━━━━━┳━━━━━━━━━━━━┳━━━━━━━━━━━━━━━━┳━━━━━━━━━━┳━━━━━━━━━━━━━━━━━━━━━━━━━━━━━━━━━━━━━━━━━━━━━━━━━━━━━━━━━━━━━━━━━━━━━━━━━━━━━━━━━━┳━━━━━━━━━━━━━━━━━━━━━━━━━━━━━━━━━━━━━━━━━━━━━━━━━━━━━━━━━━━━━━━━━━━━━━━━━━━━━━━━━━┳━━━━━━━━━━━━━━━━━━━━━━━━━━━━━━━━━━━━━━━━━━━━━━━━━━━━━━━━━━━━━━━━━━━━━━━━━━━━━━━━━━━━━━━━━━━━━━┳━━━━━━━━━━━━━━━━━━━━━━━━━━━━━━━━━━━━━━━━━━━━━━━━━━━━━━━━━━━━━━━━━━━━━━━━━━━━━━━━━━┳━━━━━━━━━━━━━━━━━━━━━━━━━━━━━━━━━━━━━━━━━━━━┳━━━━━━━━━━━━━━━━━━━━━━━━━━━━━━━━━━━━━━━━━━━━━━━━━━━━━━━━━━━━━━━━━━━━━━━━━━━━━━━━━━━━━━━━━━━┳━━━━━━━━━━━━━━━━━━━━━┳━━━━━━━━┳━━━━━━━━━━━━━━━━━┳━━━━━━━━━━━━━━━━━━━━━━┓\n",
       "┃\u001b[1m \u001b[0m\u001b[1mvisitorId\u001b[0m\u001b[1m \u001b[0m┃\u001b[1m \u001b[0m\u001b[1mvisitNumber\u001b[0m\u001b[1m \u001b[0m┃\u001b[1m \u001b[0m\u001b[1mvisitId\u001b[0m\u001b[1m   \u001b[0m\u001b[1m \u001b[0m┃\u001b[1m \u001b[0m\u001b[1mvisitStartTime\u001b[0m\u001b[1m \u001b[0m┃\u001b[1m \u001b[0m\u001b[1mdate\u001b[0m\u001b[1m    \u001b[0m\u001b[1m \u001b[0m┃\u001b[1m \u001b[0m\u001b[1mtotals\u001b[0m\u001b[1m                                                                          \u001b[0m\u001b[1m \u001b[0m┃\u001b[1m \u001b[0m\u001b[1mtrafficSource\u001b[0m\u001b[1m                                                                   \u001b[0m\u001b[1m \u001b[0m┃\u001b[1m \u001b[0m\u001b[1mdevice\u001b[0m\u001b[1m                                                                                      \u001b[0m\u001b[1m \u001b[0m┃\u001b[1m \u001b[0m\u001b[1mgeoNetwork\u001b[0m\u001b[1m                                                                      \u001b[0m\u001b[1m \u001b[0m┃\u001b[1m \u001b[0m\u001b[1mcustomDimensions\u001b[0m\u001b[1m                          \u001b[0m\u001b[1m \u001b[0m┃\u001b[1m \u001b[0m\u001b[1mhits\u001b[0m\u001b[1m                                                                                     \u001b[0m\u001b[1m \u001b[0m┃\u001b[1m \u001b[0m\u001b[1mfullVisitorId\u001b[0m\u001b[1m      \u001b[0m\u001b[1m \u001b[0m┃\u001b[1m \u001b[0m\u001b[1muserId\u001b[0m\u001b[1m \u001b[0m┃\u001b[1m \u001b[0m\u001b[1mchannelGrouping\u001b[0m\u001b[1m \u001b[0m┃\u001b[1m \u001b[0m\u001b[1msocialEngagementType\u001b[0m\u001b[1m \u001b[0m┃\n",
       "┡━━━━━━━━━━━╇━━━━━━━━━━━━━╇━━━━━━━━━━━━╇━━━━━━━━━━━━━━━━╇━━━━━━━━━━╇━━━━━━━━━━━━━━━━━━━━━━━━━━━━━━━━━━━━━━━━━━━━━━━━━━━━━━━━━━━━━━━━━━━━━━━━━━━━━━━━━━╇━━━━━━━━━━━━━━━━━━━━━━━━━━━━━━━━━━━━━━━━━━━━━━━━━━━━━━━━━━━━━━━━━━━━━━━━━━━━━━━━━━╇━━━━━━━━━━━━━━━━━━━━━━━━━━━━━━━━━━━━━━━━━━━━━━━━━━━━━━━━━━━━━━━━━━━━━━━━━━━━━━━━━━━━━━━━━━━━━━╇━━━━━━━━━━━━━━━━━━━━━━━━━━━━━━━━━━━━━━━━━━━━━━━━━━━━━━━━━━━━━━━━━━━━━━━━━━━━━━━━━━╇━━━━━━━━━━━━━━━━━━━━━━━━━━━━━━━━━━━━━━━━━━━━╇━━━━━━━━━━━━━━━━━━━━━━━━━━━━━━━━━━━━━━━━━━━━━━━━━━━━━━━━━━━━━━━━━━━━━━━━━━━━━━━━━━━━━━━━━━━╇━━━━━━━━━━━━━━━━━━━━━╇━━━━━━━━╇━━━━━━━━━━━━━━━━━╇━━━━━━━━━━━━━━━━━━━━━━┩\n",
       "│ \u001b[2mint64\u001b[0m     │ \u001b[2mint64\u001b[0m       │ \u001b[2mint64\u001b[0m      │ \u001b[2mint64\u001b[0m          │ \u001b[2mstring\u001b[0m   │ \u001b[2mstruct<visits: int64, hits: int64, pageviews: int64, timeOnSite: int64, bounces…\u001b[0m │ \u001b[2mstruct<referralPath: string, campaign: string, source: string, medium: string, …\u001b[0m │ \u001b[2mstruct<browser: string, browserVersion: string, browserSize: string, operatingS…\u001b[0m             │ \u001b[2mstruct<continent: string, subContinent: string, country: string, region: string…\u001b[0m │ \u001b[2marray<struct<index: int64, value: string>>\u001b[0m │ \u001b[2marray<struct<hitNumber: int64, time: int64, hour: int64, minute: int64, isSecur…\u001b[0m          │ \u001b[2mstring\u001b[0m              │ \u001b[2mstring\u001b[0m │ \u001b[2mstring\u001b[0m          │ \u001b[2mstring\u001b[0m               │\n",
       "├───────────┼─────────────┼────────────┼────────────────┼──────────┼──────────────────────────────────────────────────────────────────────────────────┼──────────────────────────────────────────────────────────────────────────────────┼──────────────────────────────────────────────────────────────────────────────────────────────┼──────────────────────────────────────────────────────────────────────────────────┼────────────────────────────────────────────┼───────────────────────────────────────────────────────────────────────────────────────────┼─────────────────────┼────────┼─────────────────┼──────────────────────┤\n",
       "│      \u001b[2mNULL\u001b[0m │           \u001b[1;36m1\u001b[0m │ \u001b[1;36m1470046245\u001b[0m │     \u001b[1;36m1470046245\u001b[0m │ \u001b[32m20160801\u001b[0m │ \u001b[1m{\u001b[0m\u001b[32m'visits'\u001b[0m: \u001b[1;36m1\u001b[0m, \u001b[32m'hits'\u001b[0m: \u001b[1;36m24\u001b[0m, \u001b[33m...\u001b[0m +\u001b[1;36m11\u001b[0m\u001b[1m}\u001b[0m                                               │ \u001b[1m{\u001b[0m\u001b[32m'referralPath'\u001b[0m: \u001b[3;35mNone\u001b[0m, \u001b[32m'campaign'\u001b[0m: \u001b[32m'\u001b[0m\u001b[32m(\u001b[0m\u001b[32mnot set\u001b[0m\u001b[32m)\u001b[0m\u001b[32m'\u001b[0m, \u001b[33m...\u001b[0m +\u001b[1;36m7\u001b[0m\u001b[1m}\u001b[0m                          │ \u001b[1m{\u001b[0m\u001b[32m'browser'\u001b[0m: \u001b[32m'Firefox'\u001b[0m, \u001b[32m'browserVersion'\u001b[0m: \u001b[32m'not available in demo dataset'\u001b[0m, \u001b[33m...\u001b[0m +\u001b[1;36m15\u001b[0m\u001b[1m}\u001b[0m           │ \u001b[1m{\u001b[0m\u001b[32m'continent'\u001b[0m: \u001b[32m'Europe'\u001b[0m, \u001b[32m'subContinent'\u001b[0m: \u001b[32m'Western Europe'\u001b[0m, \u001b[33m...\u001b[0m +\u001b[1;36m9\u001b[0m\u001b[1m}\u001b[0m                │ \u001b[1m[\u001b[0m\u001b[1m{\u001b[0m\u001b[33m...\u001b[0m\u001b[1m}\u001b[0m\u001b[1m]\u001b[0m                                    │ \u001b[1m[\u001b[0m\u001b[1m{\u001b[0m\u001b[33m...\u001b[0m\u001b[1m}\u001b[0m, \u001b[1m{\u001b[0m\u001b[33m...\u001b[0m\u001b[1m}\u001b[0m, \u001b[33m...\u001b[0m +\u001b[1;36m22\u001b[0m\u001b[1m]\u001b[0m                                                                   │ \u001b[32m895954260133011192 \u001b[0m │ \u001b[2mNULL\u001b[0m   │ \u001b[32mOrganic Search \u001b[0m │ \u001b[32mNot Socially Engaged\u001b[0m │\n",
       "│      \u001b[2mNULL\u001b[0m │           \u001b[1;36m1\u001b[0m │ \u001b[1;36m1470084717\u001b[0m │     \u001b[1;36m1470084717\u001b[0m │ \u001b[32m20160801\u001b[0m │ \u001b[1m{\u001b[0m\u001b[32m'visits'\u001b[0m: \u001b[1;36m1\u001b[0m, \u001b[32m'hits'\u001b[0m: \u001b[1;36m24\u001b[0m, \u001b[33m...\u001b[0m +\u001b[1;36m11\u001b[0m\u001b[1m}\u001b[0m                                               │ \u001b[1m{\u001b[0m\u001b[32m'referralPath'\u001b[0m: \u001b[3;35mNone\u001b[0m, \u001b[32m'campaign'\u001b[0m: \u001b[32m'\u001b[0m\u001b[32m(\u001b[0m\u001b[32mnot set\u001b[0m\u001b[32m)\u001b[0m\u001b[32m'\u001b[0m, \u001b[33m...\u001b[0m +\u001b[1;36m7\u001b[0m\u001b[1m}\u001b[0m                          │ \u001b[1m{\u001b[0m\u001b[32m'browser'\u001b[0m: \u001b[32m'Internet Explorer'\u001b[0m, \u001b[32m'browserVersion'\u001b[0m: \u001b[32m'not available in demo dataset'\u001b[0m, \u001b[33m...\u001b[0m +\u001b[1;36m15\u001b[0m\u001b[1m}\u001b[0m │ \u001b[1m{\u001b[0m\u001b[32m'continent'\u001b[0m: \u001b[32m'Americas'\u001b[0m, \u001b[32m'subContinent'\u001b[0m: \u001b[32m'Northern America'\u001b[0m, \u001b[33m...\u001b[0m +\u001b[1;36m9\u001b[0m\u001b[1m}\u001b[0m            │ \u001b[1m[\u001b[0m\u001b[1m{\u001b[0m\u001b[33m...\u001b[0m\u001b[1m}\u001b[0m\u001b[1m]\u001b[0m                                    │ \u001b[1m[\u001b[0m\u001b[1m{\u001b[0m\u001b[33m...\u001b[0m\u001b[1m}\u001b[0m, \u001b[1m{\u001b[0m\u001b[33m...\u001b[0m\u001b[1m}\u001b[0m, \u001b[33m...\u001b[0m +\u001b[1;36m22\u001b[0m\u001b[1m]\u001b[0m                                                                   │ \u001b[32m0288478011259077136\u001b[0m │ \u001b[2mNULL\u001b[0m   │ \u001b[32mDirect         \u001b[0m │ \u001b[32mNot Socially Engaged\u001b[0m │\n",
       "│      \u001b[2mNULL\u001b[0m │           \u001b[1;36m3\u001b[0m │ \u001b[1;36m1470078988\u001b[0m │     \u001b[1;36m1470078988\u001b[0m │ \u001b[32m20160801\u001b[0m │ \u001b[1m{\u001b[0m\u001b[32m'visits'\u001b[0m: \u001b[1;36m1\u001b[0m, \u001b[32m'hits'\u001b[0m: \u001b[1;36m27\u001b[0m, \u001b[33m...\u001b[0m +\u001b[1;36m11\u001b[0m\u001b[1m}\u001b[0m                                               │ \u001b[1m{\u001b[0m\u001b[32m'referralPath'\u001b[0m: \u001b[3;35mNone\u001b[0m, \u001b[32m'campaign'\u001b[0m: \u001b[32m'\u001b[0m\u001b[32m(\u001b[0m\u001b[32mnot set\u001b[0m\u001b[32m)\u001b[0m\u001b[32m'\u001b[0m, \u001b[33m...\u001b[0m +\u001b[1;36m7\u001b[0m\u001b[1m}\u001b[0m                          │ \u001b[1m{\u001b[0m\u001b[32m'browser'\u001b[0m: \u001b[32m'Safari'\u001b[0m, \u001b[32m'browserVersion'\u001b[0m: \u001b[32m'not available in demo dataset'\u001b[0m, \u001b[33m...\u001b[0m +\u001b[1;36m15\u001b[0m\u001b[1m}\u001b[0m            │ \u001b[1m{\u001b[0m\u001b[32m'continent'\u001b[0m: \u001b[32m'Americas'\u001b[0m, \u001b[32m'subContinent'\u001b[0m: \u001b[32m'Northern America'\u001b[0m, \u001b[33m...\u001b[0m +\u001b[1;36m9\u001b[0m\u001b[1m}\u001b[0m            │ \u001b[1m[\u001b[0m\u001b[1m{\u001b[0m\u001b[33m...\u001b[0m\u001b[1m}\u001b[0m\u001b[1m]\u001b[0m                                    │ \u001b[1m[\u001b[0m\u001b[1m{\u001b[0m\u001b[33m...\u001b[0m\u001b[1m}\u001b[0m, \u001b[1m{\u001b[0m\u001b[33m...\u001b[0m\u001b[1m}\u001b[0m, \u001b[33m...\u001b[0m +\u001b[1;36m25\u001b[0m\u001b[1m]\u001b[0m                                                                   │ \u001b[32m6440789996634275026\u001b[0m │ \u001b[2mNULL\u001b[0m   │ \u001b[32mOrganic Search \u001b[0m │ \u001b[32mNot Socially Engaged\u001b[0m │\n",
       "│      \u001b[2mNULL\u001b[0m │           \u001b[1;36m4\u001b[0m │ \u001b[1;36m1470075581\u001b[0m │     \u001b[1;36m1470075581\u001b[0m │ \u001b[32m20160801\u001b[0m │ \u001b[1m{\u001b[0m\u001b[32m'visits'\u001b[0m: \u001b[1;36m1\u001b[0m, \u001b[32m'hits'\u001b[0m: \u001b[1;36m27\u001b[0m, \u001b[33m...\u001b[0m +\u001b[1;36m11\u001b[0m\u001b[1m}\u001b[0m                                               │ \u001b[1m{\u001b[0m\u001b[32m'referralPath'\u001b[0m: \u001b[32m'/'\u001b[0m, \u001b[32m'campaign'\u001b[0m: \u001b[32m'\u001b[0m\u001b[32m(\u001b[0m\u001b[32mnot set\u001b[0m\u001b[32m)\u001b[0m\u001b[32m'\u001b[0m, \u001b[33m...\u001b[0m +\u001b[1;36m7\u001b[0m\u001b[1m}\u001b[0m                           │ \u001b[1m{\u001b[0m\u001b[32m'browser'\u001b[0m: \u001b[32m'Chrome'\u001b[0m, \u001b[32m'browserVersion'\u001b[0m: \u001b[32m'not available in demo dataset'\u001b[0m, \u001b[33m...\u001b[0m +\u001b[1;36m15\u001b[0m\u001b[1m}\u001b[0m            │ \u001b[1m{\u001b[0m\u001b[32m'continent'\u001b[0m: \u001b[32m'Americas'\u001b[0m, \u001b[32m'subContinent'\u001b[0m: \u001b[32m'Northern America'\u001b[0m, \u001b[33m...\u001b[0m +\u001b[1;36m9\u001b[0m\u001b[1m}\u001b[0m            │ \u001b[1m[\u001b[0m\u001b[1m{\u001b[0m\u001b[33m...\u001b[0m\u001b[1m}\u001b[0m\u001b[1m]\u001b[0m                                    │ \u001b[1m[\u001b[0m\u001b[1m{\u001b[0m\u001b[33m...\u001b[0m\u001b[1m}\u001b[0m, \u001b[1m{\u001b[0m\u001b[33m...\u001b[0m\u001b[1m}\u001b[0m, \u001b[33m...\u001b[0m +\u001b[1;36m25\u001b[0m\u001b[1m]\u001b[0m                                                                   │ \u001b[32m8520115029387302083\u001b[0m │ \u001b[2mNULL\u001b[0m   │ \u001b[32mReferral       \u001b[0m │ \u001b[32mNot Socially Engaged\u001b[0m │\n",
       "│      \u001b[2mNULL\u001b[0m │          \u001b[1;36m30\u001b[0m │ \u001b[1;36m1470099026\u001b[0m │     \u001b[1;36m1470099026\u001b[0m │ \u001b[32m20160801\u001b[0m │ \u001b[1m{\u001b[0m\u001b[32m'visits'\u001b[0m: \u001b[1;36m1\u001b[0m, \u001b[32m'hits'\u001b[0m: \u001b[1;36m27\u001b[0m, \u001b[33m...\u001b[0m +\u001b[1;36m11\u001b[0m\u001b[1m}\u001b[0m                                               │ \u001b[1m{\u001b[0m\u001b[32m'referralPath'\u001b[0m: \u001b[3;35mNone\u001b[0m, \u001b[32m'campaign'\u001b[0m: \u001b[32m'\u001b[0m\u001b[32m(\u001b[0m\u001b[32mnot set\u001b[0m\u001b[32m)\u001b[0m\u001b[32m'\u001b[0m, \u001b[33m...\u001b[0m +\u001b[1;36m7\u001b[0m\u001b[1m}\u001b[0m                          │ \u001b[1m{\u001b[0m\u001b[32m'browser'\u001b[0m: \u001b[32m'Chrome'\u001b[0m, \u001b[32m'browserVersion'\u001b[0m: \u001b[32m'not available in demo dataset'\u001b[0m, \u001b[33m...\u001b[0m +\u001b[1;36m15\u001b[0m\u001b[1m}\u001b[0m            │ \u001b[1m{\u001b[0m\u001b[32m'continent'\u001b[0m: \u001b[32m'Americas'\u001b[0m, \u001b[32m'subContinent'\u001b[0m: \u001b[32m'Northern America'\u001b[0m, \u001b[33m...\u001b[0m +\u001b[1;36m9\u001b[0m\u001b[1m}\u001b[0m            │ \u001b[1m[\u001b[0m\u001b[1m{\u001b[0m\u001b[33m...\u001b[0m\u001b[1m}\u001b[0m\u001b[1m]\u001b[0m                                    │ \u001b[1m[\u001b[0m\u001b[1m{\u001b[0m\u001b[33m...\u001b[0m\u001b[1m}\u001b[0m, \u001b[1m{\u001b[0m\u001b[33m...\u001b[0m\u001b[1m}\u001b[0m, \u001b[33m...\u001b[0m +\u001b[1;36m25\u001b[0m\u001b[1m]\u001b[0m                                                                   │ \u001b[32m6792260745822342947\u001b[0m │ \u001b[2mNULL\u001b[0m   │ \u001b[32mOrganic Search \u001b[0m │ \u001b[32mNot Socially Engaged\u001b[0m │\n",
       "└───────────┴─────────────┴────────────┴────────────────┴──────────┴──────────────────────────────────────────────────────────────────────────────────┴──────────────────────────────────────────────────────────────────────────────────┴──────────────────────────────────────────────────────────────────────────────────────────────┴──────────────────────────────────────────────────────────────────────────────────┴────────────────────────────────────────────┴───────────────────────────────────────────────────────────────────────────────────────────┴─────────────────────┴────────┴─────────────────┴──────────────────────┘"
      ]
     },
     "execution_count": 14,
     "metadata": {},
     "output_type": "execute_result"
    }
   ],
   "source": [
    "ga.head()"
   ]
  },
  {
   "cell_type": "code",
   "execution_count": 47,
   "metadata": {},
   "outputs": [],
   "source": [
    "ga_totals = ga['date','fullVisitorId','visitNumber','totals'].unpack('totals')\n",
    "ga_source = ga['date','fullVisitorId','trafficSource','channelGrouping', 'geoNetwork', 'socialEngagementType'].unpack('trafficSource')\n",
    "ga_source = ga_source.unpack('geoNetwork')"
   ]
  },
  {
   "cell_type": "code",
   "execution_count": 48,
   "metadata": {},
   "outputs": [
    {
     "data": {
      "text/html": [
       "<pre style=\"white-space:pre;overflow-x:auto;line-height:normal;font-family:Menlo,'DejaVu Sans Mono',consolas,'Courier New',monospace\">┏━━━━━━━━━━┳━━━━━━━━━━━━━━━━━━━━━┳━━━━━━━━━━━━━┳━━━━━━━━┳━━━━━━━┳━━━━━━━━━━━┳━━━━━━━━━━━━┳━━━━━━━━━┳━━━━━━━━━━━━━━┳━━━━━━━━━━━━━━━━━━━━┳━━━━━━━━━━━┳━━━━━━━━━━━━━┳━━━━━━━━━━━━━━━━━━━┳━━━━━━━━━━━━━━┳━━━━━━━━━━━━━━━━━━━━━━━━━┳━━━━━━━━━━━━━━━━━━━┓\n",
       "┃<span style=\"font-weight: bold\"> date     </span>┃<span style=\"font-weight: bold\"> fullVisitorId       </span>┃<span style=\"font-weight: bold\"> visitNumber </span>┃<span style=\"font-weight: bold\"> visits </span>┃<span style=\"font-weight: bold\"> hits  </span>┃<span style=\"font-weight: bold\"> pageviews </span>┃<span style=\"font-weight: bold\"> timeOnSite </span>┃<span style=\"font-weight: bold\"> bounces </span>┃<span style=\"font-weight: bold\"> transactions </span>┃<span style=\"font-weight: bold\"> transactionRevenue </span>┃<span style=\"font-weight: bold\"> newVisits </span>┃<span style=\"font-weight: bold\"> screenviews </span>┃<span style=\"font-weight: bold\"> uniqueScreenviews </span>┃<span style=\"font-weight: bold\"> timeOnScreen </span>┃<span style=\"font-weight: bold\"> totalTransactionRevenue </span>┃<span style=\"font-weight: bold\"> sessionQualityDim </span>┃\n",
       "┡━━━━━━━━━━╇━━━━━━━━━━━━━━━━━━━━━╇━━━━━━━━━━━━━╇━━━━━━━━╇━━━━━━━╇━━━━━━━━━━━╇━━━━━━━━━━━━╇━━━━━━━━━╇━━━━━━━━━━━━━━╇━━━━━━━━━━━━━━━━━━━━╇━━━━━━━━━━━╇━━━━━━━━━━━━━╇━━━━━━━━━━━━━━━━━━━╇━━━━━━━━━━━━━━╇━━━━━━━━━━━━━━━━━━━━━━━━━╇━━━━━━━━━━━━━━━━━━━┩\n",
       "│ <span style=\"color: #7f7f7f; text-decoration-color: #7f7f7f\">string</span>   │ <span style=\"color: #7f7f7f; text-decoration-color: #7f7f7f\">string</span>              │ <span style=\"color: #7f7f7f; text-decoration-color: #7f7f7f\">int64</span>       │ <span style=\"color: #7f7f7f; text-decoration-color: #7f7f7f\">int64</span>  │ <span style=\"color: #7f7f7f; text-decoration-color: #7f7f7f\">int64</span> │ <span style=\"color: #7f7f7f; text-decoration-color: #7f7f7f\">int64</span>     │ <span style=\"color: #7f7f7f; text-decoration-color: #7f7f7f\">int64</span>      │ <span style=\"color: #7f7f7f; text-decoration-color: #7f7f7f\">int64</span>   │ <span style=\"color: #7f7f7f; text-decoration-color: #7f7f7f\">int64</span>        │ <span style=\"color: #7f7f7f; text-decoration-color: #7f7f7f\">int64</span>              │ <span style=\"color: #7f7f7f; text-decoration-color: #7f7f7f\">int64</span>     │ <span style=\"color: #7f7f7f; text-decoration-color: #7f7f7f\">int64</span>       │ <span style=\"color: #7f7f7f; text-decoration-color: #7f7f7f\">int64</span>             │ <span style=\"color: #7f7f7f; text-decoration-color: #7f7f7f\">int64</span>        │ <span style=\"color: #7f7f7f; text-decoration-color: #7f7f7f\">int64</span>                   │ <span style=\"color: #7f7f7f; text-decoration-color: #7f7f7f\">int64</span>             │\n",
       "├──────────┼─────────────────────┼─────────────┼────────┼───────┼───────────┼────────────┼─────────┼──────────────┼────────────────────┼───────────┼─────────────┼───────────────────┼──────────────┼─────────────────────────┼───────────────────┤\n",
       "│ <span style=\"color: #008000; text-decoration-color: #008000\">20160801</span> │ <span style=\"color: #008000; text-decoration-color: #008000\">895954260133011192 </span> │           <span style=\"color: #008080; text-decoration-color: #008080; font-weight: bold\">1</span> │      <span style=\"color: #008080; text-decoration-color: #008080; font-weight: bold\">1</span> │    <span style=\"color: #008080; text-decoration-color: #008080; font-weight: bold\">24</span> │        <span style=\"color: #008080; text-decoration-color: #008080; font-weight: bold\">17</span> │        <span style=\"color: #008080; text-decoration-color: #008080; font-weight: bold\">287</span> │    <span style=\"color: #7f7f7f; text-decoration-color: #7f7f7f\">NULL</span> │         <span style=\"color: #7f7f7f; text-decoration-color: #7f7f7f\">NULL</span> │               <span style=\"color: #7f7f7f; text-decoration-color: #7f7f7f\">NULL</span> │         <span style=\"color: #008080; text-decoration-color: #008080; font-weight: bold\">1</span> │        <span style=\"color: #7f7f7f; text-decoration-color: #7f7f7f\">NULL</span> │              <span style=\"color: #7f7f7f; text-decoration-color: #7f7f7f\">NULL</span> │         <span style=\"color: #7f7f7f; text-decoration-color: #7f7f7f\">NULL</span> │                    <span style=\"color: #7f7f7f; text-decoration-color: #7f7f7f\">NULL</span> │              <span style=\"color: #7f7f7f; text-decoration-color: #7f7f7f\">NULL</span> │\n",
       "│ <span style=\"color: #008000; text-decoration-color: #008000\">20160801</span> │ <span style=\"color: #008000; text-decoration-color: #008000\">0288478011259077136</span> │           <span style=\"color: #008080; text-decoration-color: #008080; font-weight: bold\">1</span> │      <span style=\"color: #008080; text-decoration-color: #008080; font-weight: bold\">1</span> │    <span style=\"color: #008080; text-decoration-color: #008080; font-weight: bold\">24</span> │        <span style=\"color: #008080; text-decoration-color: #008080; font-weight: bold\">18</span> │        <span style=\"color: #008080; text-decoration-color: #008080; font-weight: bold\">962</span> │    <span style=\"color: #7f7f7f; text-decoration-color: #7f7f7f\">NULL</span> │         <span style=\"color: #7f7f7f; text-decoration-color: #7f7f7f\">NULL</span> │               <span style=\"color: #7f7f7f; text-decoration-color: #7f7f7f\">NULL</span> │         <span style=\"color: #008080; text-decoration-color: #008080; font-weight: bold\">1</span> │        <span style=\"color: #7f7f7f; text-decoration-color: #7f7f7f\">NULL</span> │              <span style=\"color: #7f7f7f; text-decoration-color: #7f7f7f\">NULL</span> │         <span style=\"color: #7f7f7f; text-decoration-color: #7f7f7f\">NULL</span> │                    <span style=\"color: #7f7f7f; text-decoration-color: #7f7f7f\">NULL</span> │              <span style=\"color: #7f7f7f; text-decoration-color: #7f7f7f\">NULL</span> │\n",
       "│ <span style=\"color: #008000; text-decoration-color: #008000\">20160801</span> │ <span style=\"color: #008000; text-decoration-color: #008000\">6440789996634275026</span> │           <span style=\"color: #008080; text-decoration-color: #008080; font-weight: bold\">3</span> │      <span style=\"color: #008080; text-decoration-color: #008080; font-weight: bold\">1</span> │    <span style=\"color: #008080; text-decoration-color: #008080; font-weight: bold\">27</span> │        <span style=\"color: #008080; text-decoration-color: #008080; font-weight: bold\">17</span> │        <span style=\"color: #008080; text-decoration-color: #008080; font-weight: bold\">283</span> │    <span style=\"color: #7f7f7f; text-decoration-color: #7f7f7f\">NULL</span> │         <span style=\"color: #7f7f7f; text-decoration-color: #7f7f7f\">NULL</span> │               <span style=\"color: #7f7f7f; text-decoration-color: #7f7f7f\">NULL</span> │      <span style=\"color: #7f7f7f; text-decoration-color: #7f7f7f\">NULL</span> │        <span style=\"color: #7f7f7f; text-decoration-color: #7f7f7f\">NULL</span> │              <span style=\"color: #7f7f7f; text-decoration-color: #7f7f7f\">NULL</span> │         <span style=\"color: #7f7f7f; text-decoration-color: #7f7f7f\">NULL</span> │                    <span style=\"color: #7f7f7f; text-decoration-color: #7f7f7f\">NULL</span> │              <span style=\"color: #7f7f7f; text-decoration-color: #7f7f7f\">NULL</span> │\n",
       "│ <span style=\"color: #008000; text-decoration-color: #008000\">20160801</span> │ <span style=\"color: #008000; text-decoration-color: #008000\">8520115029387302083</span> │           <span style=\"color: #008080; text-decoration-color: #008080; font-weight: bold\">4</span> │      <span style=\"color: #008080; text-decoration-color: #008080; font-weight: bold\">1</span> │    <span style=\"color: #008080; text-decoration-color: #008080; font-weight: bold\">27</span> │        <span style=\"color: #008080; text-decoration-color: #008080; font-weight: bold\">19</span> │        <span style=\"color: #008080; text-decoration-color: #008080; font-weight: bold\">371</span> │    <span style=\"color: #7f7f7f; text-decoration-color: #7f7f7f\">NULL</span> │         <span style=\"color: #7f7f7f; text-decoration-color: #7f7f7f\">NULL</span> │               <span style=\"color: #7f7f7f; text-decoration-color: #7f7f7f\">NULL</span> │      <span style=\"color: #7f7f7f; text-decoration-color: #7f7f7f\">NULL</span> │        <span style=\"color: #7f7f7f; text-decoration-color: #7f7f7f\">NULL</span> │              <span style=\"color: #7f7f7f; text-decoration-color: #7f7f7f\">NULL</span> │         <span style=\"color: #7f7f7f; text-decoration-color: #7f7f7f\">NULL</span> │                    <span style=\"color: #7f7f7f; text-decoration-color: #7f7f7f\">NULL</span> │              <span style=\"color: #7f7f7f; text-decoration-color: #7f7f7f\">NULL</span> │\n",
       "│ <span style=\"color: #008000; text-decoration-color: #008000\">20160801</span> │ <span style=\"color: #008000; text-decoration-color: #008000\">6792260745822342947</span> │          <span style=\"color: #008080; text-decoration-color: #008080; font-weight: bold\">30</span> │      <span style=\"color: #008080; text-decoration-color: #008080; font-weight: bold\">1</span> │    <span style=\"color: #008080; text-decoration-color: #008080; font-weight: bold\">27</span> │        <span style=\"color: #008080; text-decoration-color: #008080; font-weight: bold\">17</span> │        <span style=\"color: #008080; text-decoration-color: #008080; font-weight: bold\">210</span> │    <span style=\"color: #7f7f7f; text-decoration-color: #7f7f7f\">NULL</span> │         <span style=\"color: #7f7f7f; text-decoration-color: #7f7f7f\">NULL</span> │               <span style=\"color: #7f7f7f; text-decoration-color: #7f7f7f\">NULL</span> │      <span style=\"color: #7f7f7f; text-decoration-color: #7f7f7f\">NULL</span> │        <span style=\"color: #7f7f7f; text-decoration-color: #7f7f7f\">NULL</span> │              <span style=\"color: #7f7f7f; text-decoration-color: #7f7f7f\">NULL</span> │         <span style=\"color: #7f7f7f; text-decoration-color: #7f7f7f\">NULL</span> │                    <span style=\"color: #7f7f7f; text-decoration-color: #7f7f7f\">NULL</span> │              <span style=\"color: #7f7f7f; text-decoration-color: #7f7f7f\">NULL</span> │\n",
       "└──────────┴─────────────────────┴─────────────┴────────┴───────┴───────────┴────────────┴─────────┴──────────────┴────────────────────┴───────────┴─────────────┴───────────────────┴──────────────┴─────────────────────────┴───────────────────┘\n",
       "</pre>\n"
      ],
      "text/plain": [
       "┏━━━━━━━━━━┳━━━━━━━━━━━━━━━━━━━━━┳━━━━━━━━━━━━━┳━━━━━━━━┳━━━━━━━┳━━━━━━━━━━━┳━━━━━━━━━━━━┳━━━━━━━━━┳━━━━━━━━━━━━━━┳━━━━━━━━━━━━━━━━━━━━┳━━━━━━━━━━━┳━━━━━━━━━━━━━┳━━━━━━━━━━━━━━━━━━━┳━━━━━━━━━━━━━━┳━━━━━━━━━━━━━━━━━━━━━━━━━┳━━━━━━━━━━━━━━━━━━━┓\n",
       "┃\u001b[1m \u001b[0m\u001b[1mdate\u001b[0m\u001b[1m    \u001b[0m\u001b[1m \u001b[0m┃\u001b[1m \u001b[0m\u001b[1mfullVisitorId\u001b[0m\u001b[1m      \u001b[0m\u001b[1m \u001b[0m┃\u001b[1m \u001b[0m\u001b[1mvisitNumber\u001b[0m\u001b[1m \u001b[0m┃\u001b[1m \u001b[0m\u001b[1mvisits\u001b[0m\u001b[1m \u001b[0m┃\u001b[1m \u001b[0m\u001b[1mhits\u001b[0m\u001b[1m \u001b[0m\u001b[1m \u001b[0m┃\u001b[1m \u001b[0m\u001b[1mpageviews\u001b[0m\u001b[1m \u001b[0m┃\u001b[1m \u001b[0m\u001b[1mtimeOnSite\u001b[0m\u001b[1m \u001b[0m┃\u001b[1m \u001b[0m\u001b[1mbounces\u001b[0m\u001b[1m \u001b[0m┃\u001b[1m \u001b[0m\u001b[1mtransactions\u001b[0m\u001b[1m \u001b[0m┃\u001b[1m \u001b[0m\u001b[1mtransactionRevenue\u001b[0m\u001b[1m \u001b[0m┃\u001b[1m \u001b[0m\u001b[1mnewVisits\u001b[0m\u001b[1m \u001b[0m┃\u001b[1m \u001b[0m\u001b[1mscreenviews\u001b[0m\u001b[1m \u001b[0m┃\u001b[1m \u001b[0m\u001b[1muniqueScreenviews\u001b[0m\u001b[1m \u001b[0m┃\u001b[1m \u001b[0m\u001b[1mtimeOnScreen\u001b[0m\u001b[1m \u001b[0m┃\u001b[1m \u001b[0m\u001b[1mtotalTransactionRevenue\u001b[0m\u001b[1m \u001b[0m┃\u001b[1m \u001b[0m\u001b[1msessionQualityDim\u001b[0m\u001b[1m \u001b[0m┃\n",
       "┡━━━━━━━━━━╇━━━━━━━━━━━━━━━━━━━━━╇━━━━━━━━━━━━━╇━━━━━━━━╇━━━━━━━╇━━━━━━━━━━━╇━━━━━━━━━━━━╇━━━━━━━━━╇━━━━━━━━━━━━━━╇━━━━━━━━━━━━━━━━━━━━╇━━━━━━━━━━━╇━━━━━━━━━━━━━╇━━━━━━━━━━━━━━━━━━━╇━━━━━━━━━━━━━━╇━━━━━━━━━━━━━━━━━━━━━━━━━╇━━━━━━━━━━━━━━━━━━━┩\n",
       "│ \u001b[2mstring\u001b[0m   │ \u001b[2mstring\u001b[0m              │ \u001b[2mint64\u001b[0m       │ \u001b[2mint64\u001b[0m  │ \u001b[2mint64\u001b[0m │ \u001b[2mint64\u001b[0m     │ \u001b[2mint64\u001b[0m      │ \u001b[2mint64\u001b[0m   │ \u001b[2mint64\u001b[0m        │ \u001b[2mint64\u001b[0m              │ \u001b[2mint64\u001b[0m     │ \u001b[2mint64\u001b[0m       │ \u001b[2mint64\u001b[0m             │ \u001b[2mint64\u001b[0m        │ \u001b[2mint64\u001b[0m                   │ \u001b[2mint64\u001b[0m             │\n",
       "├──────────┼─────────────────────┼─────────────┼────────┼───────┼───────────┼────────────┼─────────┼──────────────┼────────────────────┼───────────┼─────────────┼───────────────────┼──────────────┼─────────────────────────┼───────────────────┤\n",
       "│ \u001b[32m20160801\u001b[0m │ \u001b[32m895954260133011192 \u001b[0m │           \u001b[1;36m1\u001b[0m │      \u001b[1;36m1\u001b[0m │    \u001b[1;36m24\u001b[0m │        \u001b[1;36m17\u001b[0m │        \u001b[1;36m287\u001b[0m │    \u001b[2mNULL\u001b[0m │         \u001b[2mNULL\u001b[0m │               \u001b[2mNULL\u001b[0m │         \u001b[1;36m1\u001b[0m │        \u001b[2mNULL\u001b[0m │              \u001b[2mNULL\u001b[0m │         \u001b[2mNULL\u001b[0m │                    \u001b[2mNULL\u001b[0m │              \u001b[2mNULL\u001b[0m │\n",
       "│ \u001b[32m20160801\u001b[0m │ \u001b[32m0288478011259077136\u001b[0m │           \u001b[1;36m1\u001b[0m │      \u001b[1;36m1\u001b[0m │    \u001b[1;36m24\u001b[0m │        \u001b[1;36m18\u001b[0m │        \u001b[1;36m962\u001b[0m │    \u001b[2mNULL\u001b[0m │         \u001b[2mNULL\u001b[0m │               \u001b[2mNULL\u001b[0m │         \u001b[1;36m1\u001b[0m │        \u001b[2mNULL\u001b[0m │              \u001b[2mNULL\u001b[0m │         \u001b[2mNULL\u001b[0m │                    \u001b[2mNULL\u001b[0m │              \u001b[2mNULL\u001b[0m │\n",
       "│ \u001b[32m20160801\u001b[0m │ \u001b[32m6440789996634275026\u001b[0m │           \u001b[1;36m3\u001b[0m │      \u001b[1;36m1\u001b[0m │    \u001b[1;36m27\u001b[0m │        \u001b[1;36m17\u001b[0m │        \u001b[1;36m283\u001b[0m │    \u001b[2mNULL\u001b[0m │         \u001b[2mNULL\u001b[0m │               \u001b[2mNULL\u001b[0m │      \u001b[2mNULL\u001b[0m │        \u001b[2mNULL\u001b[0m │              \u001b[2mNULL\u001b[0m │         \u001b[2mNULL\u001b[0m │                    \u001b[2mNULL\u001b[0m │              \u001b[2mNULL\u001b[0m │\n",
       "│ \u001b[32m20160801\u001b[0m │ \u001b[32m8520115029387302083\u001b[0m │           \u001b[1;36m4\u001b[0m │      \u001b[1;36m1\u001b[0m │    \u001b[1;36m27\u001b[0m │        \u001b[1;36m19\u001b[0m │        \u001b[1;36m371\u001b[0m │    \u001b[2mNULL\u001b[0m │         \u001b[2mNULL\u001b[0m │               \u001b[2mNULL\u001b[0m │      \u001b[2mNULL\u001b[0m │        \u001b[2mNULL\u001b[0m │              \u001b[2mNULL\u001b[0m │         \u001b[2mNULL\u001b[0m │                    \u001b[2mNULL\u001b[0m │              \u001b[2mNULL\u001b[0m │\n",
       "│ \u001b[32m20160801\u001b[0m │ \u001b[32m6792260745822342947\u001b[0m │          \u001b[1;36m30\u001b[0m │      \u001b[1;36m1\u001b[0m │    \u001b[1;36m27\u001b[0m │        \u001b[1;36m17\u001b[0m │        \u001b[1;36m210\u001b[0m │    \u001b[2mNULL\u001b[0m │         \u001b[2mNULL\u001b[0m │               \u001b[2mNULL\u001b[0m │      \u001b[2mNULL\u001b[0m │        \u001b[2mNULL\u001b[0m │              \u001b[2mNULL\u001b[0m │         \u001b[2mNULL\u001b[0m │                    \u001b[2mNULL\u001b[0m │              \u001b[2mNULL\u001b[0m │\n",
       "└──────────┴─────────────────────┴─────────────┴────────┴───────┴───────────┴────────────┴─────────┴──────────────┴────────────────────┴───────────┴─────────────┴───────────────────┴──────────────┴─────────────────────────┴───────────────────┘"
      ]
     },
     "execution_count": 48,
     "metadata": {},
     "output_type": "execute_result"
    }
   ],
   "source": [
    "ga_totals.head()"
   ]
  },
  {
   "cell_type": "code",
   "execution_count": 52,
   "metadata": {},
   "outputs": [
    {
     "data": {
      "text/html": [
       "<pre style=\"white-space:pre;overflow-x:auto;line-height:normal;font-family:Menlo,'DejaVu Sans Mono',consolas,'Courier New',monospace\">┏━━━━━━━━━━━━━━━━━━━━┳━━━━━━━━━━━━━━━━━━━━━━━━━━┓\n",
       "┃<span style=\"font-weight: bold\"> transactionRevenue </span>┃<span style=\"font-weight: bold\"> transactionRevenue_count </span>┃\n",
       "┡━━━━━━━━━━━━━━━━━━━━╇━━━━━━━━━━━━━━━━━━━━━━━━━━┩\n",
       "│ <span style=\"color: #7f7f7f; text-decoration-color: #7f7f7f\">int64</span>              │ <span style=\"color: #7f7f7f; text-decoration-color: #7f7f7f\">int64</span>                    │\n",
       "├────────────────────┼──────────────────────────┤\n",
       "│               <span style=\"color: #7f7f7f; text-decoration-color: #7f7f7f\">NULL</span> │                     <span style=\"color: #008080; text-decoration-color: #008080; font-weight: bold\">1677</span> │\n",
       "│          <span style=\"color: #008080; text-decoration-color: #008080; font-weight: bold\">167400000</span> │                        <span style=\"color: #008080; text-decoration-color: #008080; font-weight: bold\">1</span> │\n",
       "│           <span style=\"color: #008080; text-decoration-color: #008080; font-weight: bold\">15930000</span> │                        <span style=\"color: #008080; text-decoration-color: #008080; font-weight: bold\">1</span> │\n",
       "│          <span style=\"color: #008080; text-decoration-color: #008080; font-weight: bold\">140560000</span> │                        <span style=\"color: #008080; text-decoration-color: #008080; font-weight: bold\">1</span> │\n",
       "│           <span style=\"color: #008080; text-decoration-color: #008080; font-weight: bold\">61900000</span> │                        <span style=\"color: #008080; text-decoration-color: #008080; font-weight: bold\">1</span> │\n",
       "│           <span style=\"color: #008080; text-decoration-color: #008080; font-weight: bold\">97200000</span> │                        <span style=\"color: #008080; text-decoration-color: #008080; font-weight: bold\">1</span> │\n",
       "│            <span style=\"color: #008080; text-decoration-color: #008080; font-weight: bold\">8990000</span> │                        <span style=\"color: #008080; text-decoration-color: #008080; font-weight: bold\">1</span> │\n",
       "│          <span style=\"color: #008080; text-decoration-color: #008080; font-weight: bold\">102350000</span> │                        <span style=\"color: #008080; text-decoration-color: #008080; font-weight: bold\">1</span> │\n",
       "│           <span style=\"color: #008080; text-decoration-color: #008080; font-weight: bold\">20780000</span> │                        <span style=\"color: #008080; text-decoration-color: #008080; font-weight: bold\">1</span> │\n",
       "│          <span style=\"color: #008080; text-decoration-color: #008080; font-weight: bold\">144190000</span> │                        <span style=\"color: #008080; text-decoration-color: #008080; font-weight: bold\">1</span> │\n",
       "│                  <span style=\"color: #7f7f7f; text-decoration-color: #7f7f7f\">…</span> │                        <span style=\"color: #7f7f7f; text-decoration-color: #7f7f7f\">…</span> │\n",
       "└────────────────────┴──────────────────────────┘\n",
       "</pre>\n"
      ],
      "text/plain": [
       "┏━━━━━━━━━━━━━━━━━━━━┳━━━━━━━━━━━━━━━━━━━━━━━━━━┓\n",
       "┃\u001b[1m \u001b[0m\u001b[1mtransactionRevenue\u001b[0m\u001b[1m \u001b[0m┃\u001b[1m \u001b[0m\u001b[1mtransactionRevenue_count\u001b[0m\u001b[1m \u001b[0m┃\n",
       "┡━━━━━━━━━━━━━━━━━━━━╇━━━━━━━━━━━━━━━━━━━━━━━━━━┩\n",
       "│ \u001b[2mint64\u001b[0m              │ \u001b[2mint64\u001b[0m                    │\n",
       "├────────────────────┼──────────────────────────┤\n",
       "│               \u001b[2mNULL\u001b[0m │                     \u001b[1;36m1677\u001b[0m │\n",
       "│          \u001b[1;36m167400000\u001b[0m │                        \u001b[1;36m1\u001b[0m │\n",
       "│           \u001b[1;36m15930000\u001b[0m │                        \u001b[1;36m1\u001b[0m │\n",
       "│          \u001b[1;36m140560000\u001b[0m │                        \u001b[1;36m1\u001b[0m │\n",
       "│           \u001b[1;36m61900000\u001b[0m │                        \u001b[1;36m1\u001b[0m │\n",
       "│           \u001b[1;36m97200000\u001b[0m │                        \u001b[1;36m1\u001b[0m │\n",
       "│            \u001b[1;36m8990000\u001b[0m │                        \u001b[1;36m1\u001b[0m │\n",
       "│          \u001b[1;36m102350000\u001b[0m │                        \u001b[1;36m1\u001b[0m │\n",
       "│           \u001b[1;36m20780000\u001b[0m │                        \u001b[1;36m1\u001b[0m │\n",
       "│          \u001b[1;36m144190000\u001b[0m │                        \u001b[1;36m1\u001b[0m │\n",
       "│                  \u001b[2m…\u001b[0m │                        \u001b[2m…\u001b[0m │\n",
       "└────────────────────┴──────────────────────────┘"
      ]
     },
     "execution_count": 52,
     "metadata": {},
     "output_type": "execute_result"
    }
   ],
   "source": [
    "ga_totals['transactionRevenue'].value_counts()"
   ]
  },
  {
   "cell_type": "code",
   "execution_count": 39,
   "metadata": {},
   "outputs": [
    {
     "data": {
      "text/html": [
       "<pre style=\"white-space:pre;overflow-x:auto;line-height:normal;font-family:Menlo,'DejaVu Sans Mono',consolas,'Courier New',monospace\">┏━━━━━━━━━━┳━━━━━━━━━━━━━━━━━━━━━┳━━━━━━━━━━━━━━┳━━━━━━━━━━━┳━━━━━━━━━━┳━━━━━━━━━┳━━━━━━━━━━━━━━━━┳━━━━━━━━━━━┳━━━━━━━━━━━━━━━━━━━━━━━━━━━━━━━━━━━━━━━━━━━━━━━━━━━━━━━━━━━━━━━━━━━━━━━━━━━━━━━━━━┳━━━━━━━━━━━━━━┳━━━━━━━━━━━━━━┳━━━━━━━━━━━━━━━━━┳━━━━━━━━━━━┳━━━━━━━━━━━━━━━━━━┳━━━━━━━━━━━━━━━┳━━━━━━━━━━━━━━━━━━━━━━━━━━━━━━━┳━━━━━━━━━━━━━━━━━━━━━━━━━━━━━━━━━━━┳━━━━━━━━━━━━━━━━━━━━━━━━━━━━━━━┳━━━━━━━━━━━━━━━━━━━━━━━━━━━━━━━┳━━━━━━━━━━━━━━━━┳━━━━━━━━━━━━━━━━━━━━━━━━━━━━━━━┳━━━━━━━━━━━━━━━━━━━━━━━━━━━━━━━┳━━━━━━━━━━━━━━━━━━━━━━━━━━━━━━━┳━━━━━━━━━━━━━━━━━━━━━━┓\n",
       "┃<span style=\"font-weight: bold\"> date     </span>┃<span style=\"font-weight: bold\"> fullVisitorId       </span>┃<span style=\"font-weight: bold\"> referralPath </span>┃<span style=\"font-weight: bold\"> campaign  </span>┃<span style=\"font-weight: bold\"> source   </span>┃<span style=\"font-weight: bold\"> medium  </span>┃<span style=\"font-weight: bold\"> keyword        </span>┃<span style=\"font-weight: bold\"> adContent </span>┃<span style=\"font-weight: bold\"> adwordsClickInfo                                                                 </span>┃<span style=\"font-weight: bold\"> isTrueDirect </span>┃<span style=\"font-weight: bold\"> campaignCode </span>┃<span style=\"font-weight: bold\"> channelGrouping </span>┃<span style=\"font-weight: bold\"> continent </span>┃<span style=\"font-weight: bold\"> subContinent     </span>┃<span style=\"font-weight: bold\"> country       </span>┃<span style=\"font-weight: bold\"> region                        </span>┃<span style=\"font-weight: bold\"> metro                             </span>┃<span style=\"font-weight: bold\"> city                          </span>┃<span style=\"font-weight: bold\"> cityId                        </span>┃<span style=\"font-weight: bold\"> networkDomain  </span>┃<span style=\"font-weight: bold\"> latitude                      </span>┃<span style=\"font-weight: bold\"> longitude                     </span>┃<span style=\"font-weight: bold\"> networkLocation               </span>┃<span style=\"font-weight: bold\"> socialEngagementType </span>┃\n",
       "┡━━━━━━━━━━╇━━━━━━━━━━━━━━━━━━━━━╇━━━━━━━━━━━━━━╇━━━━━━━━━━━╇━━━━━━━━━━╇━━━━━━━━━╇━━━━━━━━━━━━━━━━╇━━━━━━━━━━━╇━━━━━━━━━━━━━━━━━━━━━━━━━━━━━━━━━━━━━━━━━━━━━━━━━━━━━━━━━━━━━━━━━━━━━━━━━━━━━━━━━━╇━━━━━━━━━━━━━━╇━━━━━━━━━━━━━━╇━━━━━━━━━━━━━━━━━╇━━━━━━━━━━━╇━━━━━━━━━━━━━━━━━━╇━━━━━━━━━━━━━━━╇━━━━━━━━━━━━━━━━━━━━━━━━━━━━━━━╇━━━━━━━━━━━━━━━━━━━━━━━━━━━━━━━━━━━╇━━━━━━━━━━━━━━━━━━━━━━━━━━━━━━━╇━━━━━━━━━━━━━━━━━━━━━━━━━━━━━━━╇━━━━━━━━━━━━━━━━╇━━━━━━━━━━━━━━━━━━━━━━━━━━━━━━━╇━━━━━━━━━━━━━━━━━━━━━━━━━━━━━━━╇━━━━━━━━━━━━━━━━━━━━━━━━━━━━━━━╇━━━━━━━━━━━━━━━━━━━━━━┩\n",
       "│ <span style=\"color: #7f7f7f; text-decoration-color: #7f7f7f\">string</span>   │ <span style=\"color: #7f7f7f; text-decoration-color: #7f7f7f\">string</span>              │ <span style=\"color: #7f7f7f; text-decoration-color: #7f7f7f\">string</span>       │ <span style=\"color: #7f7f7f; text-decoration-color: #7f7f7f\">string</span>    │ <span style=\"color: #7f7f7f; text-decoration-color: #7f7f7f\">string</span>   │ <span style=\"color: #7f7f7f; text-decoration-color: #7f7f7f\">string</span>  │ <span style=\"color: #7f7f7f; text-decoration-color: #7f7f7f\">string</span>         │ <span style=\"color: #7f7f7f; text-decoration-color: #7f7f7f\">string</span>    │ <span style=\"color: #7f7f7f; text-decoration-color: #7f7f7f\">struct&lt;campaignId: int64, adGroupId: int64, creativeId: int64, criteriaId: int6…</span> │ <span style=\"color: #7f7f7f; text-decoration-color: #7f7f7f\">boolean</span>      │ <span style=\"color: #7f7f7f; text-decoration-color: #7f7f7f\">string</span>       │ <span style=\"color: #7f7f7f; text-decoration-color: #7f7f7f\">string</span>          │ <span style=\"color: #7f7f7f; text-decoration-color: #7f7f7f\">string</span>    │ <span style=\"color: #7f7f7f; text-decoration-color: #7f7f7f\">string</span>           │ <span style=\"color: #7f7f7f; text-decoration-color: #7f7f7f\">string</span>        │ <span style=\"color: #7f7f7f; text-decoration-color: #7f7f7f\">string</span>                        │ <span style=\"color: #7f7f7f; text-decoration-color: #7f7f7f\">string</span>                            │ <span style=\"color: #7f7f7f; text-decoration-color: #7f7f7f\">string</span>                        │ <span style=\"color: #7f7f7f; text-decoration-color: #7f7f7f\">string</span>                        │ <span style=\"color: #7f7f7f; text-decoration-color: #7f7f7f\">string</span>         │ <span style=\"color: #7f7f7f; text-decoration-color: #7f7f7f\">string</span>                        │ <span style=\"color: #7f7f7f; text-decoration-color: #7f7f7f\">string</span>                        │ <span style=\"color: #7f7f7f; text-decoration-color: #7f7f7f\">string</span>                        │ <span style=\"color: #7f7f7f; text-decoration-color: #7f7f7f\">string</span>               │\n",
       "├──────────┼─────────────────────┼──────────────┼───────────┼──────────┼─────────┼────────────────┼───────────┼──────────────────────────────────────────────────────────────────────────────────┼──────────────┼──────────────┼─────────────────┼───────────┼──────────────────┼───────────────┼───────────────────────────────┼───────────────────────────────────┼───────────────────────────────┼───────────────────────────────┼────────────────┼───────────────────────────────┼───────────────────────────────┼───────────────────────────────┼──────────────────────┤\n",
       "│ <span style=\"color: #008000; text-decoration-color: #008000\">20160801</span> │ <span style=\"color: #008000; text-decoration-color: #008000\">895954260133011192 </span> │ <span style=\"color: #7f7f7f; text-decoration-color: #7f7f7f\">NULL</span>         │ <span style=\"color: #008000; text-decoration-color: #008000\">(not set)</span> │ <span style=\"color: #008000; text-decoration-color: #008000\">google  </span> │ <span style=\"color: #008000; text-decoration-color: #008000\">organic</span> │ <span style=\"color: #008000; text-decoration-color: #008000\">(not provided)</span> │ <span style=\"color: #7f7f7f; text-decoration-color: #7f7f7f\">NULL</span>      │ <span style=\"font-weight: bold\">{</span><span style=\"color: #008000; text-decoration-color: #008000\">'campaignId'</span>: <span style=\"color: #800080; text-decoration-color: #800080; font-style: italic\">None</span>, <span style=\"color: #008000; text-decoration-color: #008000\">'adGroupId'</span>: <span style=\"color: #800080; text-decoration-color: #800080; font-style: italic\">None</span>, <span style=\"color: #808000; text-decoration-color: #808000\">...</span> +<span style=\"color: #008080; text-decoration-color: #008080; font-weight: bold\">10</span><span style=\"font-weight: bold\">}</span>                                 │ <span style=\"color: #7f7f7f; text-decoration-color: #7f7f7f\">NULL</span>         │ <span style=\"color: #7f7f7f; text-decoration-color: #7f7f7f\">NULL</span>         │ <span style=\"color: #008000; text-decoration-color: #008000\">Organic Search </span> │ <span style=\"color: #008000; text-decoration-color: #008000\">Europe   </span> │ <span style=\"color: #008000; text-decoration-color: #008000\">Western Europe  </span> │ <span style=\"color: #008000; text-decoration-color: #008000\">Germany      </span> │ <span style=\"color: #008000; text-decoration-color: #008000\">not available in demo dataset</span> │ <span style=\"color: #008000; text-decoration-color: #008000\">not available in demo dataset    </span> │ <span style=\"color: #008000; text-decoration-color: #008000\">not available in demo dataset</span> │ <span style=\"color: #008000; text-decoration-color: #008000\">not available in demo dataset</span> │ <span style=\"color: #008000; text-decoration-color: #008000\">scalamedia.de </span> │ <span style=\"color: #008000; text-decoration-color: #008000\">not available in demo dataset</span> │ <span style=\"color: #008000; text-decoration-color: #008000\">not available in demo dataset</span> │ <span style=\"color: #008000; text-decoration-color: #008000\">not available in demo dataset</span> │ <span style=\"color: #008000; text-decoration-color: #008000\">Not Socially Engaged</span> │\n",
       "│ <span style=\"color: #008000; text-decoration-color: #008000\">20160801</span> │ <span style=\"color: #008000; text-decoration-color: #008000\">0288478011259077136</span> │ <span style=\"color: #7f7f7f; text-decoration-color: #7f7f7f\">NULL</span>         │ <span style=\"color: #008000; text-decoration-color: #008000\">(not set)</span> │ <span style=\"color: #008000; text-decoration-color: #008000\">(direct)</span> │ <span style=\"color: #008000; text-decoration-color: #008000\">(none) </span> │ <span style=\"color: #7f7f7f; text-decoration-color: #7f7f7f\">NULL</span>           │ <span style=\"color: #7f7f7f; text-decoration-color: #7f7f7f\">NULL</span>      │ <span style=\"font-weight: bold\">{</span><span style=\"color: #008000; text-decoration-color: #008000\">'campaignId'</span>: <span style=\"color: #800080; text-decoration-color: #800080; font-style: italic\">None</span>, <span style=\"color: #008000; text-decoration-color: #008000\">'adGroupId'</span>: <span style=\"color: #800080; text-decoration-color: #800080; font-style: italic\">None</span>, <span style=\"color: #808000; text-decoration-color: #808000\">...</span> +<span style=\"color: #008080; text-decoration-color: #008080; font-weight: bold\">10</span><span style=\"font-weight: bold\">}</span>                                 │ True         │ <span style=\"color: #7f7f7f; text-decoration-color: #7f7f7f\">NULL</span>         │ <span style=\"color: #008000; text-decoration-color: #008000\">Direct         </span> │ <span style=\"color: #008000; text-decoration-color: #008000\">Americas </span> │ <span style=\"color: #008000; text-decoration-color: #008000\">Northern America</span> │ <span style=\"color: #008000; text-decoration-color: #008000\">United States</span> │ <span style=\"color: #008000; text-decoration-color: #008000\">California                   </span> │ <span style=\"color: #008000; text-decoration-color: #008000\">San Francisco-Oakland-San Jose CA</span> │ <span style=\"color: #008000; text-decoration-color: #008000\">Santa Clara                  </span> │ <span style=\"color: #008000; text-decoration-color: #008000\">not available in demo dataset</span> │ <span style=\"color: #008000; text-decoration-color: #008000\">nvidia.com    </span> │ <span style=\"color: #008000; text-decoration-color: #008000\">not available in demo dataset</span> │ <span style=\"color: #008000; text-decoration-color: #008000\">not available in demo dataset</span> │ <span style=\"color: #008000; text-decoration-color: #008000\">not available in demo dataset</span> │ <span style=\"color: #008000; text-decoration-color: #008000\">Not Socially Engaged</span> │\n",
       "│ <span style=\"color: #008000; text-decoration-color: #008000\">20160801</span> │ <span style=\"color: #008000; text-decoration-color: #008000\">6440789996634275026</span> │ <span style=\"color: #7f7f7f; text-decoration-color: #7f7f7f\">NULL</span>         │ <span style=\"color: #008000; text-decoration-color: #008000\">(not set)</span> │ <span style=\"color: #008000; text-decoration-color: #008000\">google  </span> │ <span style=\"color: #008000; text-decoration-color: #008000\">organic</span> │ <span style=\"color: #008000; text-decoration-color: #008000\">(not provided)</span> │ <span style=\"color: #7f7f7f; text-decoration-color: #7f7f7f\">NULL</span>      │ <span style=\"font-weight: bold\">{</span><span style=\"color: #008000; text-decoration-color: #008000\">'campaignId'</span>: <span style=\"color: #800080; text-decoration-color: #800080; font-style: italic\">None</span>, <span style=\"color: #008000; text-decoration-color: #008000\">'adGroupId'</span>: <span style=\"color: #800080; text-decoration-color: #800080; font-style: italic\">None</span>, <span style=\"color: #808000; text-decoration-color: #808000\">...</span> +<span style=\"color: #008080; text-decoration-color: #008080; font-weight: bold\">10</span><span style=\"font-weight: bold\">}</span>                                 │ True         │ <span style=\"color: #7f7f7f; text-decoration-color: #7f7f7f\">NULL</span>         │ <span style=\"color: #008000; text-decoration-color: #008000\">Organic Search </span> │ <span style=\"color: #008000; text-decoration-color: #008000\">Americas </span> │ <span style=\"color: #008000; text-decoration-color: #008000\">Northern America</span> │ <span style=\"color: #008000; text-decoration-color: #008000\">United States</span> │ <span style=\"color: #008000; text-decoration-color: #008000\">California                   </span> │ <span style=\"color: #008000; text-decoration-color: #008000\">San Francisco-Oakland-San Jose CA</span> │ <span style=\"color: #008000; text-decoration-color: #008000\">San Francisco                </span> │ <span style=\"color: #008000; text-decoration-color: #008000\">not available in demo dataset</span> │ <span style=\"color: #008000; text-decoration-color: #008000\">att.net       </span> │ <span style=\"color: #008000; text-decoration-color: #008000\">not available in demo dataset</span> │ <span style=\"color: #008000; text-decoration-color: #008000\">not available in demo dataset</span> │ <span style=\"color: #008000; text-decoration-color: #008000\">not available in demo dataset</span> │ <span style=\"color: #008000; text-decoration-color: #008000\">Not Socially Engaged</span> │\n",
       "│ <span style=\"color: #008000; text-decoration-color: #008000\">20160801</span> │ <span style=\"color: #008000; text-decoration-color: #008000\">8520115029387302083</span> │ <span style=\"color: #008000; text-decoration-color: #008000\">/           </span> │ <span style=\"color: #008000; text-decoration-color: #008000\">(not set)</span> │ <span style=\"color: #008000; text-decoration-color: #008000\">(direct)</span> │ <span style=\"color: #008000; text-decoration-color: #008000\">(none) </span> │ <span style=\"color: #7f7f7f; text-decoration-color: #7f7f7f\">NULL</span>           │ <span style=\"color: #7f7f7f; text-decoration-color: #7f7f7f\">NULL</span>      │ <span style=\"font-weight: bold\">{</span><span style=\"color: #008000; text-decoration-color: #008000\">'campaignId'</span>: <span style=\"color: #800080; text-decoration-color: #800080; font-style: italic\">None</span>, <span style=\"color: #008000; text-decoration-color: #008000\">'adGroupId'</span>: <span style=\"color: #800080; text-decoration-color: #800080; font-style: italic\">None</span>, <span style=\"color: #808000; text-decoration-color: #808000\">...</span> +<span style=\"color: #008080; text-decoration-color: #008080; font-weight: bold\">10</span><span style=\"font-weight: bold\">}</span>                                 │ True         │ <span style=\"color: #7f7f7f; text-decoration-color: #7f7f7f\">NULL</span>         │ <span style=\"color: #008000; text-decoration-color: #008000\">Referral       </span> │ <span style=\"color: #008000; text-decoration-color: #008000\">Americas </span> │ <span style=\"color: #008000; text-decoration-color: #008000\">Northern America</span> │ <span style=\"color: #008000; text-decoration-color: #008000\">United States</span> │ <span style=\"color: #008000; text-decoration-color: #008000\">Washington                   </span> │ <span style=\"color: #008000; text-decoration-color: #008000\">Seattle-Tacoma WA                </span> │ <span style=\"color: #008000; text-decoration-color: #008000\">Kirkland                     </span> │ <span style=\"color: #008000; text-decoration-color: #008000\">not available in demo dataset</span> │ <span style=\"color: #008000; text-decoration-color: #008000\">(not set)     </span> │ <span style=\"color: #008000; text-decoration-color: #008000\">not available in demo dataset</span> │ <span style=\"color: #008000; text-decoration-color: #008000\">not available in demo dataset</span> │ <span style=\"color: #008000; text-decoration-color: #008000\">not available in demo dataset</span> │ <span style=\"color: #008000; text-decoration-color: #008000\">Not Socially Engaged</span> │\n",
       "│ <span style=\"color: #008000; text-decoration-color: #008000\">20160801</span> │ <span style=\"color: #008000; text-decoration-color: #008000\">6792260745822342947</span> │ <span style=\"color: #7f7f7f; text-decoration-color: #7f7f7f\">NULL</span>         │ <span style=\"color: #008000; text-decoration-color: #008000\">(not set)</span> │ <span style=\"color: #008000; text-decoration-color: #008000\">google  </span> │ <span style=\"color: #008000; text-decoration-color: #008000\">organic</span> │ <span style=\"color: #008000; text-decoration-color: #008000\">(not provided)</span> │ <span style=\"color: #7f7f7f; text-decoration-color: #7f7f7f\">NULL</span>      │ <span style=\"font-weight: bold\">{</span><span style=\"color: #008000; text-decoration-color: #008000\">'campaignId'</span>: <span style=\"color: #800080; text-decoration-color: #800080; font-style: italic\">None</span>, <span style=\"color: #008000; text-decoration-color: #008000\">'adGroupId'</span>: <span style=\"color: #800080; text-decoration-color: #800080; font-style: italic\">None</span>, <span style=\"color: #808000; text-decoration-color: #808000\">...</span> +<span style=\"color: #008080; text-decoration-color: #008080; font-weight: bold\">10</span><span style=\"font-weight: bold\">}</span>                                 │ True         │ <span style=\"color: #7f7f7f; text-decoration-color: #7f7f7f\">NULL</span>         │ <span style=\"color: #008000; text-decoration-color: #008000\">Organic Search </span> │ <span style=\"color: #008000; text-decoration-color: #008000\">Americas </span> │ <span style=\"color: #008000; text-decoration-color: #008000\">Northern America</span> │ <span style=\"color: #008000; text-decoration-color: #008000\">United States</span> │ <span style=\"color: #008000; text-decoration-color: #008000\">California                   </span> │ <span style=\"color: #008000; text-decoration-color: #008000\">San Francisco-Oakland-San Jose CA</span> │ <span style=\"color: #008000; text-decoration-color: #008000\">San Francisco                </span> │ <span style=\"color: #008000; text-decoration-color: #008000\">not available in demo dataset</span> │ <span style=\"color: #008000; text-decoration-color: #008000\">windstream.net</span> │ <span style=\"color: #008000; text-decoration-color: #008000\">not available in demo dataset</span> │ <span style=\"color: #008000; text-decoration-color: #008000\">not available in demo dataset</span> │ <span style=\"color: #008000; text-decoration-color: #008000\">not available in demo dataset</span> │ <span style=\"color: #008000; text-decoration-color: #008000\">Not Socially Engaged</span> │\n",
       "└──────────┴─────────────────────┴──────────────┴───────────┴──────────┴─────────┴────────────────┴───────────┴──────────────────────────────────────────────────────────────────────────────────┴──────────────┴──────────────┴─────────────────┴───────────┴──────────────────┴───────────────┴───────────────────────────────┴───────────────────────────────────┴───────────────────────────────┴───────────────────────────────┴────────────────┴───────────────────────────────┴───────────────────────────────┴───────────────────────────────┴──────────────────────┘\n",
       "</pre>\n"
      ],
      "text/plain": [
       "┏━━━━━━━━━━┳━━━━━━━━━━━━━━━━━━━━━┳━━━━━━━━━━━━━━┳━━━━━━━━━━━┳━━━━━━━━━━┳━━━━━━━━━┳━━━━━━━━━━━━━━━━┳━━━━━━━━━━━┳━━━━━━━━━━━━━━━━━━━━━━━━━━━━━━━━━━━━━━━━━━━━━━━━━━━━━━━━━━━━━━━━━━━━━━━━━━━━━━━━━━┳━━━━━━━━━━━━━━┳━━━━━━━━━━━━━━┳━━━━━━━━━━━━━━━━━┳━━━━━━━━━━━┳━━━━━━━━━━━━━━━━━━┳━━━━━━━━━━━━━━━┳━━━━━━━━━━━━━━━━━━━━━━━━━━━━━━━┳━━━━━━━━━━━━━━━━━━━━━━━━━━━━━━━━━━━┳━━━━━━━━━━━━━━━━━━━━━━━━━━━━━━━┳━━━━━━━━━━━━━━━━━━━━━━━━━━━━━━━┳━━━━━━━━━━━━━━━━┳━━━━━━━━━━━━━━━━━━━━━━━━━━━━━━━┳━━━━━━━━━━━━━━━━━━━━━━━━━━━━━━━┳━━━━━━━━━━━━━━━━━━━━━━━━━━━━━━━┳━━━━━━━━━━━━━━━━━━━━━━┓\n",
       "┃\u001b[1m \u001b[0m\u001b[1mdate\u001b[0m\u001b[1m    \u001b[0m\u001b[1m \u001b[0m┃\u001b[1m \u001b[0m\u001b[1mfullVisitorId\u001b[0m\u001b[1m      \u001b[0m\u001b[1m \u001b[0m┃\u001b[1m \u001b[0m\u001b[1mreferralPath\u001b[0m\u001b[1m \u001b[0m┃\u001b[1m \u001b[0m\u001b[1mcampaign\u001b[0m\u001b[1m \u001b[0m\u001b[1m \u001b[0m┃\u001b[1m \u001b[0m\u001b[1msource\u001b[0m\u001b[1m  \u001b[0m\u001b[1m \u001b[0m┃\u001b[1m \u001b[0m\u001b[1mmedium\u001b[0m\u001b[1m \u001b[0m\u001b[1m \u001b[0m┃\u001b[1m \u001b[0m\u001b[1mkeyword\u001b[0m\u001b[1m       \u001b[0m\u001b[1m \u001b[0m┃\u001b[1m \u001b[0m\u001b[1madContent\u001b[0m\u001b[1m \u001b[0m┃\u001b[1m \u001b[0m\u001b[1madwordsClickInfo\u001b[0m\u001b[1m                                                                \u001b[0m\u001b[1m \u001b[0m┃\u001b[1m \u001b[0m\u001b[1misTrueDirect\u001b[0m\u001b[1m \u001b[0m┃\u001b[1m \u001b[0m\u001b[1mcampaignCode\u001b[0m\u001b[1m \u001b[0m┃\u001b[1m \u001b[0m\u001b[1mchannelGrouping\u001b[0m\u001b[1m \u001b[0m┃\u001b[1m \u001b[0m\u001b[1mcontinent\u001b[0m\u001b[1m \u001b[0m┃\u001b[1m \u001b[0m\u001b[1msubContinent\u001b[0m\u001b[1m    \u001b[0m\u001b[1m \u001b[0m┃\u001b[1m \u001b[0m\u001b[1mcountry\u001b[0m\u001b[1m      \u001b[0m\u001b[1m \u001b[0m┃\u001b[1m \u001b[0m\u001b[1mregion\u001b[0m\u001b[1m                       \u001b[0m\u001b[1m \u001b[0m┃\u001b[1m \u001b[0m\u001b[1mmetro\u001b[0m\u001b[1m                            \u001b[0m\u001b[1m \u001b[0m┃\u001b[1m \u001b[0m\u001b[1mcity\u001b[0m\u001b[1m                         \u001b[0m\u001b[1m \u001b[0m┃\u001b[1m \u001b[0m\u001b[1mcityId\u001b[0m\u001b[1m                       \u001b[0m\u001b[1m \u001b[0m┃\u001b[1m \u001b[0m\u001b[1mnetworkDomain\u001b[0m\u001b[1m \u001b[0m\u001b[1m \u001b[0m┃\u001b[1m \u001b[0m\u001b[1mlatitude\u001b[0m\u001b[1m                     \u001b[0m\u001b[1m \u001b[0m┃\u001b[1m \u001b[0m\u001b[1mlongitude\u001b[0m\u001b[1m                    \u001b[0m\u001b[1m \u001b[0m┃\u001b[1m \u001b[0m\u001b[1mnetworkLocation\u001b[0m\u001b[1m              \u001b[0m\u001b[1m \u001b[0m┃\u001b[1m \u001b[0m\u001b[1msocialEngagementType\u001b[0m\u001b[1m \u001b[0m┃\n",
       "┡━━━━━━━━━━╇━━━━━━━━━━━━━━━━━━━━━╇━━━━━━━━━━━━━━╇━━━━━━━━━━━╇━━━━━━━━━━╇━━━━━━━━━╇━━━━━━━━━━━━━━━━╇━━━━━━━━━━━╇━━━━━━━━━━━━━━━━━━━━━━━━━━━━━━━━━━━━━━━━━━━━━━━━━━━━━━━━━━━━━━━━━━━━━━━━━━━━━━━━━━╇━━━━━━━━━━━━━━╇━━━━━━━━━━━━━━╇━━━━━━━━━━━━━━━━━╇━━━━━━━━━━━╇━━━━━━━━━━━━━━━━━━╇━━━━━━━━━━━━━━━╇━━━━━━━━━━━━━━━━━━━━━━━━━━━━━━━╇━━━━━━━━━━━━━━━━━━━━━━━━━━━━━━━━━━━╇━━━━━━━━━━━━━━━━━━━━━━━━━━━━━━━╇━━━━━━━━━━━━━━━━━━━━━━━━━━━━━━━╇━━━━━━━━━━━━━━━━╇━━━━━━━━━━━━━━━━━━━━━━━━━━━━━━━╇━━━━━━━━━━━━━━━━━━━━━━━━━━━━━━━╇━━━━━━━━━━━━━━━━━━━━━━━━━━━━━━━╇━━━━━━━━━━━━━━━━━━━━━━┩\n",
       "│ \u001b[2mstring\u001b[0m   │ \u001b[2mstring\u001b[0m              │ \u001b[2mstring\u001b[0m       │ \u001b[2mstring\u001b[0m    │ \u001b[2mstring\u001b[0m   │ \u001b[2mstring\u001b[0m  │ \u001b[2mstring\u001b[0m         │ \u001b[2mstring\u001b[0m    │ \u001b[2mstruct<campaignId: int64, adGroupId: int64, creativeId: int64, criteriaId: int6…\u001b[0m │ \u001b[2mboolean\u001b[0m      │ \u001b[2mstring\u001b[0m       │ \u001b[2mstring\u001b[0m          │ \u001b[2mstring\u001b[0m    │ \u001b[2mstring\u001b[0m           │ \u001b[2mstring\u001b[0m        │ \u001b[2mstring\u001b[0m                        │ \u001b[2mstring\u001b[0m                            │ \u001b[2mstring\u001b[0m                        │ \u001b[2mstring\u001b[0m                        │ \u001b[2mstring\u001b[0m         │ \u001b[2mstring\u001b[0m                        │ \u001b[2mstring\u001b[0m                        │ \u001b[2mstring\u001b[0m                        │ \u001b[2mstring\u001b[0m               │\n",
       "├──────────┼─────────────────────┼──────────────┼───────────┼──────────┼─────────┼────────────────┼───────────┼──────────────────────────────────────────────────────────────────────────────────┼──────────────┼──────────────┼─────────────────┼───────────┼──────────────────┼───────────────┼───────────────────────────────┼───────────────────────────────────┼───────────────────────────────┼───────────────────────────────┼────────────────┼───────────────────────────────┼───────────────────────────────┼───────────────────────────────┼──────────────────────┤\n",
       "│ \u001b[32m20160801\u001b[0m │ \u001b[32m895954260133011192 \u001b[0m │ \u001b[2mNULL\u001b[0m         │ \u001b[32m(not set)\u001b[0m │ \u001b[32mgoogle  \u001b[0m │ \u001b[32morganic\u001b[0m │ \u001b[32m(not provided)\u001b[0m │ \u001b[2mNULL\u001b[0m      │ \u001b[1m{\u001b[0m\u001b[32m'campaignId'\u001b[0m: \u001b[3;35mNone\u001b[0m, \u001b[32m'adGroupId'\u001b[0m: \u001b[3;35mNone\u001b[0m, \u001b[33m...\u001b[0m +\u001b[1;36m10\u001b[0m\u001b[1m}\u001b[0m                                 │ \u001b[2mNULL\u001b[0m         │ \u001b[2mNULL\u001b[0m         │ \u001b[32mOrganic Search \u001b[0m │ \u001b[32mEurope   \u001b[0m │ \u001b[32mWestern Europe  \u001b[0m │ \u001b[32mGermany      \u001b[0m │ \u001b[32mnot available in demo dataset\u001b[0m │ \u001b[32mnot available in demo dataset    \u001b[0m │ \u001b[32mnot available in demo dataset\u001b[0m │ \u001b[32mnot available in demo dataset\u001b[0m │ \u001b[32mscalamedia.de \u001b[0m │ \u001b[32mnot available in demo dataset\u001b[0m │ \u001b[32mnot available in demo dataset\u001b[0m │ \u001b[32mnot available in demo dataset\u001b[0m │ \u001b[32mNot Socially Engaged\u001b[0m │\n",
       "│ \u001b[32m20160801\u001b[0m │ \u001b[32m0288478011259077136\u001b[0m │ \u001b[2mNULL\u001b[0m         │ \u001b[32m(not set)\u001b[0m │ \u001b[32m(direct)\u001b[0m │ \u001b[32m(none) \u001b[0m │ \u001b[2mNULL\u001b[0m           │ \u001b[2mNULL\u001b[0m      │ \u001b[1m{\u001b[0m\u001b[32m'campaignId'\u001b[0m: \u001b[3;35mNone\u001b[0m, \u001b[32m'adGroupId'\u001b[0m: \u001b[3;35mNone\u001b[0m, \u001b[33m...\u001b[0m +\u001b[1;36m10\u001b[0m\u001b[1m}\u001b[0m                                 │ True         │ \u001b[2mNULL\u001b[0m         │ \u001b[32mDirect         \u001b[0m │ \u001b[32mAmericas \u001b[0m │ \u001b[32mNorthern America\u001b[0m │ \u001b[32mUnited States\u001b[0m │ \u001b[32mCalifornia                   \u001b[0m │ \u001b[32mSan Francisco-Oakland-San Jose CA\u001b[0m │ \u001b[32mSanta Clara                  \u001b[0m │ \u001b[32mnot available in demo dataset\u001b[0m │ \u001b[32mnvidia.com    \u001b[0m │ \u001b[32mnot available in demo dataset\u001b[0m │ \u001b[32mnot available in demo dataset\u001b[0m │ \u001b[32mnot available in demo dataset\u001b[0m │ \u001b[32mNot Socially Engaged\u001b[0m │\n",
       "│ \u001b[32m20160801\u001b[0m │ \u001b[32m6440789996634275026\u001b[0m │ \u001b[2mNULL\u001b[0m         │ \u001b[32m(not set)\u001b[0m │ \u001b[32mgoogle  \u001b[0m │ \u001b[32morganic\u001b[0m │ \u001b[32m(not provided)\u001b[0m │ \u001b[2mNULL\u001b[0m      │ \u001b[1m{\u001b[0m\u001b[32m'campaignId'\u001b[0m: \u001b[3;35mNone\u001b[0m, \u001b[32m'adGroupId'\u001b[0m: \u001b[3;35mNone\u001b[0m, \u001b[33m...\u001b[0m +\u001b[1;36m10\u001b[0m\u001b[1m}\u001b[0m                                 │ True         │ \u001b[2mNULL\u001b[0m         │ \u001b[32mOrganic Search \u001b[0m │ \u001b[32mAmericas \u001b[0m │ \u001b[32mNorthern America\u001b[0m │ \u001b[32mUnited States\u001b[0m │ \u001b[32mCalifornia                   \u001b[0m │ \u001b[32mSan Francisco-Oakland-San Jose CA\u001b[0m │ \u001b[32mSan Francisco                \u001b[0m │ \u001b[32mnot available in demo dataset\u001b[0m │ \u001b[32matt.net       \u001b[0m │ \u001b[32mnot available in demo dataset\u001b[0m │ \u001b[32mnot available in demo dataset\u001b[0m │ \u001b[32mnot available in demo dataset\u001b[0m │ \u001b[32mNot Socially Engaged\u001b[0m │\n",
       "│ \u001b[32m20160801\u001b[0m │ \u001b[32m8520115029387302083\u001b[0m │ \u001b[32m/           \u001b[0m │ \u001b[32m(not set)\u001b[0m │ \u001b[32m(direct)\u001b[0m │ \u001b[32m(none) \u001b[0m │ \u001b[2mNULL\u001b[0m           │ \u001b[2mNULL\u001b[0m      │ \u001b[1m{\u001b[0m\u001b[32m'campaignId'\u001b[0m: \u001b[3;35mNone\u001b[0m, \u001b[32m'adGroupId'\u001b[0m: \u001b[3;35mNone\u001b[0m, \u001b[33m...\u001b[0m +\u001b[1;36m10\u001b[0m\u001b[1m}\u001b[0m                                 │ True         │ \u001b[2mNULL\u001b[0m         │ \u001b[32mReferral       \u001b[0m │ \u001b[32mAmericas \u001b[0m │ \u001b[32mNorthern America\u001b[0m │ \u001b[32mUnited States\u001b[0m │ \u001b[32mWashington                   \u001b[0m │ \u001b[32mSeattle-Tacoma WA                \u001b[0m │ \u001b[32mKirkland                     \u001b[0m │ \u001b[32mnot available in demo dataset\u001b[0m │ \u001b[32m(not set)     \u001b[0m │ \u001b[32mnot available in demo dataset\u001b[0m │ \u001b[32mnot available in demo dataset\u001b[0m │ \u001b[32mnot available in demo dataset\u001b[0m │ \u001b[32mNot Socially Engaged\u001b[0m │\n",
       "│ \u001b[32m20160801\u001b[0m │ \u001b[32m6792260745822342947\u001b[0m │ \u001b[2mNULL\u001b[0m         │ \u001b[32m(not set)\u001b[0m │ \u001b[32mgoogle  \u001b[0m │ \u001b[32morganic\u001b[0m │ \u001b[32m(not provided)\u001b[0m │ \u001b[2mNULL\u001b[0m      │ \u001b[1m{\u001b[0m\u001b[32m'campaignId'\u001b[0m: \u001b[3;35mNone\u001b[0m, \u001b[32m'adGroupId'\u001b[0m: \u001b[3;35mNone\u001b[0m, \u001b[33m...\u001b[0m +\u001b[1;36m10\u001b[0m\u001b[1m}\u001b[0m                                 │ True         │ \u001b[2mNULL\u001b[0m         │ \u001b[32mOrganic Search \u001b[0m │ \u001b[32mAmericas \u001b[0m │ \u001b[32mNorthern America\u001b[0m │ \u001b[32mUnited States\u001b[0m │ \u001b[32mCalifornia                   \u001b[0m │ \u001b[32mSan Francisco-Oakland-San Jose CA\u001b[0m │ \u001b[32mSan Francisco                \u001b[0m │ \u001b[32mnot available in demo dataset\u001b[0m │ \u001b[32mwindstream.net\u001b[0m │ \u001b[32mnot available in demo dataset\u001b[0m │ \u001b[32mnot available in demo dataset\u001b[0m │ \u001b[32mnot available in demo dataset\u001b[0m │ \u001b[32mNot Socially Engaged\u001b[0m │\n",
       "└──────────┴─────────────────────┴──────────────┴───────────┴──────────┴─────────┴────────────────┴───────────┴──────────────────────────────────────────────────────────────────────────────────┴──────────────┴──────────────┴─────────────────┴───────────┴──────────────────┴───────────────┴───────────────────────────────┴───────────────────────────────────┴───────────────────────────────┴───────────────────────────────┴────────────────┴───────────────────────────────┴───────────────────────────────┴───────────────────────────────┴──────────────────────┘"
      ]
     },
     "execution_count": 39,
     "metadata": {},
     "output_type": "execute_result"
    }
   ],
   "source": [
    "ga_source.head()"
   ]
  },
  {
   "cell_type": "code",
   "execution_count": 63,
   "metadata": {},
   "outputs": [],
   "source": [
    "ga_original = ga.execute()"
   ]
  },
  {
   "cell_type": "code",
   "execution_count": 53,
   "metadata": {},
   "outputs": [],
   "source": [
    "ga_totals= ga_totals.execute()\n",
    "ga_source = ga_source.execute()"
   ]
  },
  {
   "cell_type": "code",
   "execution_count": 54,
   "metadata": {},
   "outputs": [],
   "source": [
    "from langchain.chat_models import ChatOpenAI\n",
    "from langchain.agents import create_pandas_dataframe_agent"
   ]
  },
  {
   "cell_type": "code",
   "execution_count": 64,
   "metadata": {},
   "outputs": [],
   "source": [
    "chat = ChatOpenAI(model_name='gpt-3.5-turbo', temperature=0.0)\n",
    "\n",
    "original_agent = create_pandas_dataframe_agent(chat, ga_original, verbose=True)\n",
    "totals_agent = create_pandas_dataframe_agent(chat, ga_totals, verbose=True)\n",
    "source_agent = create_pandas_dataframe_agent(chat, ga_source, verbose=True)"
   ]
  },
  {
   "cell_type": "markdown",
   "metadata": {},
   "source": [
    "# Original Table"
   ]
  },
  {
   "cell_type": "code",
   "execution_count": null,
   "metadata": {},
   "outputs": [],
   "source": [
    "#this gives us an error because the model struggles to get the packed data in the totals column \n",
    "original_agent.run('What was the total number of page views?')"
   ]
  },
  {
   "cell_type": "markdown",
   "metadata": {},
   "source": [
    "# Totals Data"
   ]
  },
  {
   "cell_type": "code",
   "execution_count": 56,
   "metadata": {},
   "outputs": [
    {
     "name": "stdout",
     "output_type": "stream",
     "text": [
      "\n",
      "\n",
      "\u001b[1m> Entering new  chain...\u001b[0m\n",
      "\u001b[32;1m\u001b[1;3mThought: I need to sum up the values in the 'pageviews' column of the dataframe.\n",
      "Action: python_repl_ast\n",
      "Action Input: df['pageviews'].sum()\u001b[0m\n",
      "Observation: \u001b[36;1m\u001b[1;3m9843\u001b[0m\n",
      "Thought:\u001b[32;1m\u001b[1;3mI have the sum of all pageviews in the dataframe.\n",
      "Final Answer: The total number of page views is 9843.\u001b[0m\n",
      "\n",
      "\u001b[1m> Finished chain.\u001b[0m\n"
     ]
    },
    {
     "data": {
      "text/plain": [
       "'The total number of page views is 9843.'"
      ]
     },
     "execution_count": 56,
     "metadata": {},
     "output_type": "execute_result"
    }
   ],
   "source": [
    "totals_agent.run('What was the total number of page views?')"
   ]
  },
  {
   "cell_type": "code",
   "execution_count": 57,
   "metadata": {},
   "outputs": [
    {
     "name": "stdout",
     "output_type": "stream",
     "text": [
      "\n",
      "\n",
      "\u001b[1m> Entering new  chain...\u001b[0m\n",
      "\u001b[32;1m\u001b[1;3mThought: I need to sum up the values in the 'transactionRevenue' column.\n",
      "Action: python_repl_ast\n",
      "Action Input: df['transactionRevenue'].sum()\u001b[0m\n",
      "Observation: \u001b[36;1m\u001b[1;3m6116060000.0\u001b[0m\n",
      "Thought:\u001b[32;1m\u001b[1;3mI now know the total transaction revenue is 6116060000.0.\n",
      "Final Answer: 6116060000.0\u001b[0m\n",
      "\n",
      "\u001b[1m> Finished chain.\u001b[0m\n"
     ]
    },
    {
     "data": {
      "text/plain": [
       "'6116060000.0'"
      ]
     },
     "execution_count": 57,
     "metadata": {},
     "output_type": "execute_result"
    }
   ],
   "source": [
    "totals_agent.run('What was the total transaction revenue?')"
   ]
  },
  {
   "cell_type": "code",
   "execution_count": 58,
   "metadata": {},
   "outputs": [
    {
     "name": "stdout",
     "output_type": "stream",
     "text": [
      "\n",
      "\n",
      "\u001b[1m> Entering new  chain...\u001b[0m\n",
      "\u001b[32;1m\u001b[1;3mThought: We need to count the number of unique values in the 'fullVisitorId' column.\n",
      "Action: python_repl_ast\n",
      "Action Input: df['fullVisitorId'].nunique()\u001b[0m\n",
      "Observation: \u001b[36;1m\u001b[1;3m1569\u001b[0m\n",
      "Thought:\u001b[32;1m\u001b[1;3mThis is the number of unique visitors who visited the site.\n",
      "Final Answer: 1569\u001b[0m\n",
      "\n",
      "\u001b[1m> Finished chain.\u001b[0m\n"
     ]
    },
    {
     "data": {
      "text/plain": [
       "'1569'"
      ]
     },
     "execution_count": 58,
     "metadata": {},
     "output_type": "execute_result"
    }
   ],
   "source": [
    "totals_agent.run('How many unique vistors visted the site?')"
   ]
  },
  {
   "cell_type": "markdown",
   "metadata": {},
   "source": [
    "# Source Data "
   ]
  },
  {
   "cell_type": "code",
   "execution_count": 59,
   "metadata": {},
   "outputs": [
    {
     "name": "stdout",
     "output_type": "stream",
     "text": [
      "\n",
      "\n",
      "\u001b[1m> Entering new  chain...\u001b[0m\n",
      "\u001b[32;1m\u001b[1;3mThought: We need to look at the \"source\" column of the dataframe and find the most common value.\n",
      "Action: python_repl_ast\n",
      "Action Input:\n",
      "df['source'].value_counts().head(1)\u001b[0m\n",
      "Observation: \u001b[36;1m\u001b[1;3m(direct)    872\n",
      "Name: source, dtype: int64\u001b[0m\n",
      "Thought:\u001b[32;1m\u001b[1;3mThe most common source of site visits is \"(direct)\".\n",
      "Final Answer: The main source of site visits is \"(direct)\".\u001b[0m\n",
      "\n",
      "\u001b[1m> Finished chain.\u001b[0m\n"
     ]
    },
    {
     "data": {
      "text/plain": [
       "'The main source of site visits is \"(direct)\".'"
      ]
     },
     "execution_count": 59,
     "metadata": {},
     "output_type": "execute_result"
    }
   ],
   "source": [
    "source_agent.run('What was the main source of site visits?')"
   ]
  },
  {
   "cell_type": "code",
   "execution_count": 60,
   "metadata": {},
   "outputs": [
    {
     "name": "stdout",
     "output_type": "stream",
     "text": [
      "\n",
      "\n",
      "\u001b[1m> Entering new  chain...\u001b[0m\n",
      "\u001b[32;1m\u001b[1;3mThought: We need to group the dataframe by country and count the number of unique visitors in each group.\n",
      "Action: python_repl_ast\n",
      "Action Input:\n",
      "```\n",
      "df.groupby('country')['fullVisitorId'].nunique().sort_values(ascending=False).head(1)\n",
      "```\u001b[0m\n",
      "Observation: \u001b[36;1m\u001b[1;3mcountry\n",
      "United States    865\n",
      "Name: fullVisitorId, dtype: int64\u001b[0m\n",
      "Thought:\u001b[32;1m\u001b[1;3mThe country with the most visitors is the United States with 865 unique visitors.\n",
      "Final Answer: United States\u001b[0m\n",
      "\n",
      "\u001b[1m> Finished chain.\u001b[0m\n"
     ]
    },
    {
     "data": {
      "text/plain": [
       "'United States'"
      ]
     },
     "execution_count": 60,
     "metadata": {},
     "output_type": "execute_result"
    }
   ],
   "source": [
    "source_agent.run('Which country did the most vistors come from?')"
   ]
  },
  {
   "cell_type": "code",
   "execution_count": 62,
   "metadata": {},
   "outputs": [
    {
     "name": "stdout",
     "output_type": "stream",
     "text": [
      "\n",
      "\n",
      "\u001b[1m> Entering new  chain...\u001b[0m\n",
      "\u001b[32;1m\u001b[1;3mThought: We need to access the 'socialEngagementType' column of the dataframe.\n",
      "Action: python_repl_ast\n",
      "Action Input: df['socialEngagementType']\u001b[0m\n",
      "Observation: \u001b[36;1m\u001b[1;3m0       Not Socially Engaged\n",
      "1       Not Socially Engaged\n",
      "2       Not Socially Engaged\n",
      "3       Not Socially Engaged\n",
      "4       Not Socially Engaged\n",
      "                ...         \n",
      "1706    Not Socially Engaged\n",
      "1707    Not Socially Engaged\n",
      "1708    Not Socially Engaged\n",
      "1709    Not Socially Engaged\n",
      "1710    Not Socially Engaged\n",
      "Name: socialEngagementType, Length: 1711, dtype: object\u001b[0m\n",
      "Thought:\u001b[32;1m\u001b[1;3mThe 'socialEngagementType' column contains the type of social engagement used for each row in the dataframe.\n",
      "Action: python_repl_ast\n",
      "Action Input: df['socialEngagementType'].unique()\u001b[0m\n",
      "Observation: \u001b[36;1m\u001b[1;3m['Not Socially Engaged']\u001b[0m\n",
      "Thought:\u001b[32;1m\u001b[1;3mAll rows in the dataframe have the same value for 'socialEngagementType'.\n",
      "Final Answer: The type of social engagement used in the dataframe is 'Not Socially Engaged'.\u001b[0m\n",
      "\n",
      "\u001b[1m> Finished chain.\u001b[0m\n"
     ]
    },
    {
     "data": {
      "text/plain": [
       "\"The type of social engagement used in the dataframe is 'Not Socially Engaged'.\""
      ]
     },
     "execution_count": 62,
     "metadata": {},
     "output_type": "execute_result"
    }
   ],
   "source": [
    "source_agent.run('What type of social enagement was used?')"
   ]
  }
 ],
 "metadata": {
  "interpreter": {
   "hash": "db67a4c5f346815e3207df1348e9e718605305208b0cc89f618da4cb81ede2ba"
  },
  "kernelspec": {
   "display_name": "Python 3.9.5 64-bit ('base': conda)",
   "language": "python",
   "name": "python3"
  },
  "language_info": {
   "codemirror_mode": {
    "name": "ipython",
    "version": 3
   },
   "file_extension": ".py",
   "mimetype": "text/x-python",
   "name": "python",
   "nbconvert_exporter": "python",
   "pygments_lexer": "ipython3",
   "version": "3.9.5"
  },
  "orig_nbformat": 4
 },
 "nbformat": 4,
 "nbformat_minor": 2
}
